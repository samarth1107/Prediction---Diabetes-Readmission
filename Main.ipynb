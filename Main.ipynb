{
 "cells": [
  {
   "cell_type": "markdown",
   "metadata": {},
   "source": [
    "# Header files"
   ]
  },
  {
   "cell_type": "code",
   "execution_count": 1,
   "metadata": {
    "collapsed": true
   },
   "outputs": [
    {
     "name": "stdout",
     "output_type": "stream",
     "text": [
      "Requirement already satisfied: imblearn in e:\\anaconda\\lib\\site-packages (0.0)\n",
      "Requirement already satisfied: imbalanced-learn in e:\\anaconda\\lib\\site-packages (from imblearn) (0.7.0)\n",
      "Requirement already satisfied: scipy>=0.19.1 in e:\\anaconda\\lib\\site-packages (from imbalanced-learn->imblearn) (1.4.1)\n",
      "Requirement already satisfied: scikit-learn>=0.23 in e:\\anaconda\\lib\\site-packages (from imbalanced-learn->imblearn) (0.23.2)\n",
      "Requirement already satisfied: numpy>=1.13.3 in e:\\anaconda\\lib\\site-packages (from imbalanced-learn->imblearn) (1.18.1)\n",
      "Requirement already satisfied: joblib>=0.11 in e:\\anaconda\\lib\\site-packages (from imbalanced-learn->imblearn) (0.14.1)\n",
      "Requirement already satisfied: threadpoolctl>=2.0.0 in e:\\anaconda\\lib\\site-packages (from scikit-learn>=0.23->imbalanced-learn->imblearn) (2.1.0)\n"
     ]
    }
   ],
   "source": [
    "# !pip install imblearn"
   ]
  },
  {
   "cell_type": "code",
   "execution_count": 1,
   "metadata": {},
   "outputs": [],
   "source": [
    "import pandas as pd\n",
    "import numpy as np\n",
    "import seaborn as sns\n",
    "import matplotlib.pyplot as plt\n",
    "from sklearn import metrics\n",
    "from imblearn.over_sampling import SMOTE\n",
    "from sklearn.model_selection import train_test_split, GridSearchCV\n",
    "from collections import Counter\n",
    "from sklearn.linear_model import LogisticRegression\n",
    "from sklearn.neighbors import KNeighborsClassifier\n",
    "from sklearn.svm import LinearSVC,SVC\n",
    "from sklearn.ensemble import RandomForestClassifier\n",
    "from sklearn.naive_bayes import GaussianNB\n",
    "from sklearn.tree import DecisionTreeClassifier\n",
    "from sklearn import model_selection\n",
    "from sklearn.utils import class_weight\n",
    "from sklearn.metrics import classification_report, confusion_matrix, matthews_corrcoef, make_scorer\n",
    "from imblearn.over_sampling import SMOTE \n",
    "from sklearn.decomposition import PCA\n",
    "from sklearn.decomposition import TruncatedSVD\n",
    "from sklearn.feature_selection import SelectFromModel\n",
    "from xgboost import XGBClassifier\n",
    "import pickle "
   ]
  },
  {
   "cell_type": "markdown",
   "metadata": {},
   "source": [
    "# Data import"
   ]
  },
  {
   "cell_type": "markdown",
   "metadata": {},
   "source": [
    "#### Patients data import"
   ]
  },
  {
   "cell_type": "code",
   "execution_count": 2,
   "metadata": {},
   "outputs": [],
   "source": [
    "Main_data = pd.read_csv(\"dataset_diabetes/diabetic_data.csv\",\n",
    "                       sep=\",\",\n",
    "                       header=0)"
   ]
  },
  {
   "cell_type": "code",
   "execution_count": 3,
   "metadata": {
    "collapsed": true
   },
   "outputs": [
    {
     "data": {
      "text/html": [
       "<div>\n",
       "<style scoped>\n",
       "    .dataframe tbody tr th:only-of-type {\n",
       "        vertical-align: middle;\n",
       "    }\n",
       "\n",
       "    .dataframe tbody tr th {\n",
       "        vertical-align: top;\n",
       "    }\n",
       "\n",
       "    .dataframe thead th {\n",
       "        text-align: right;\n",
       "    }\n",
       "</style>\n",
       "<table border=\"1\" class=\"dataframe\">\n",
       "  <thead>\n",
       "    <tr style=\"text-align: right;\">\n",
       "      <th></th>\n",
       "      <th>encounter_id</th>\n",
       "      <th>patient_nbr</th>\n",
       "      <th>race</th>\n",
       "      <th>gender</th>\n",
       "      <th>age</th>\n",
       "      <th>weight</th>\n",
       "      <th>admission_type_id</th>\n",
       "      <th>discharge_disposition_id</th>\n",
       "      <th>admission_source_id</th>\n",
       "      <th>time_in_hospital</th>\n",
       "      <th>...</th>\n",
       "      <th>citoglipton</th>\n",
       "      <th>insulin</th>\n",
       "      <th>glyburide-metformin</th>\n",
       "      <th>glipizide-metformin</th>\n",
       "      <th>glimepiride-pioglitazone</th>\n",
       "      <th>metformin-rosiglitazone</th>\n",
       "      <th>metformin-pioglitazone</th>\n",
       "      <th>change</th>\n",
       "      <th>diabetesMed</th>\n",
       "      <th>readmitted</th>\n",
       "    </tr>\n",
       "  </thead>\n",
       "  <tbody>\n",
       "    <tr>\n",
       "      <th>0</th>\n",
       "      <td>2278392</td>\n",
       "      <td>8222157</td>\n",
       "      <td>Caucasian</td>\n",
       "      <td>Female</td>\n",
       "      <td>[0-10)</td>\n",
       "      <td>?</td>\n",
       "      <td>6</td>\n",
       "      <td>25</td>\n",
       "      <td>1</td>\n",
       "      <td>1</td>\n",
       "      <td>...</td>\n",
       "      <td>No</td>\n",
       "      <td>No</td>\n",
       "      <td>No</td>\n",
       "      <td>No</td>\n",
       "      <td>No</td>\n",
       "      <td>No</td>\n",
       "      <td>No</td>\n",
       "      <td>No</td>\n",
       "      <td>No</td>\n",
       "      <td>NO</td>\n",
       "    </tr>\n",
       "    <tr>\n",
       "      <th>1</th>\n",
       "      <td>149190</td>\n",
       "      <td>55629189</td>\n",
       "      <td>Caucasian</td>\n",
       "      <td>Female</td>\n",
       "      <td>[10-20)</td>\n",
       "      <td>?</td>\n",
       "      <td>1</td>\n",
       "      <td>1</td>\n",
       "      <td>7</td>\n",
       "      <td>3</td>\n",
       "      <td>...</td>\n",
       "      <td>No</td>\n",
       "      <td>Up</td>\n",
       "      <td>No</td>\n",
       "      <td>No</td>\n",
       "      <td>No</td>\n",
       "      <td>No</td>\n",
       "      <td>No</td>\n",
       "      <td>Ch</td>\n",
       "      <td>Yes</td>\n",
       "      <td>&gt;30</td>\n",
       "    </tr>\n",
       "    <tr>\n",
       "      <th>2</th>\n",
       "      <td>64410</td>\n",
       "      <td>86047875</td>\n",
       "      <td>AfricanAmerican</td>\n",
       "      <td>Female</td>\n",
       "      <td>[20-30)</td>\n",
       "      <td>?</td>\n",
       "      <td>1</td>\n",
       "      <td>1</td>\n",
       "      <td>7</td>\n",
       "      <td>2</td>\n",
       "      <td>...</td>\n",
       "      <td>No</td>\n",
       "      <td>No</td>\n",
       "      <td>No</td>\n",
       "      <td>No</td>\n",
       "      <td>No</td>\n",
       "      <td>No</td>\n",
       "      <td>No</td>\n",
       "      <td>No</td>\n",
       "      <td>Yes</td>\n",
       "      <td>NO</td>\n",
       "    </tr>\n",
       "    <tr>\n",
       "      <th>3</th>\n",
       "      <td>500364</td>\n",
       "      <td>82442376</td>\n",
       "      <td>Caucasian</td>\n",
       "      <td>Male</td>\n",
       "      <td>[30-40)</td>\n",
       "      <td>?</td>\n",
       "      <td>1</td>\n",
       "      <td>1</td>\n",
       "      <td>7</td>\n",
       "      <td>2</td>\n",
       "      <td>...</td>\n",
       "      <td>No</td>\n",
       "      <td>Up</td>\n",
       "      <td>No</td>\n",
       "      <td>No</td>\n",
       "      <td>No</td>\n",
       "      <td>No</td>\n",
       "      <td>No</td>\n",
       "      <td>Ch</td>\n",
       "      <td>Yes</td>\n",
       "      <td>NO</td>\n",
       "    </tr>\n",
       "    <tr>\n",
       "      <th>4</th>\n",
       "      <td>16680</td>\n",
       "      <td>42519267</td>\n",
       "      <td>Caucasian</td>\n",
       "      <td>Male</td>\n",
       "      <td>[40-50)</td>\n",
       "      <td>?</td>\n",
       "      <td>1</td>\n",
       "      <td>1</td>\n",
       "      <td>7</td>\n",
       "      <td>1</td>\n",
       "      <td>...</td>\n",
       "      <td>No</td>\n",
       "      <td>Steady</td>\n",
       "      <td>No</td>\n",
       "      <td>No</td>\n",
       "      <td>No</td>\n",
       "      <td>No</td>\n",
       "      <td>No</td>\n",
       "      <td>Ch</td>\n",
       "      <td>Yes</td>\n",
       "      <td>NO</td>\n",
       "    </tr>\n",
       "  </tbody>\n",
       "</table>\n",
       "<p>5 rows × 50 columns</p>\n",
       "</div>"
      ],
      "text/plain": [
       "   encounter_id  patient_nbr             race  gender      age weight  \\\n",
       "0       2278392      8222157        Caucasian  Female   [0-10)      ?   \n",
       "1        149190     55629189        Caucasian  Female  [10-20)      ?   \n",
       "2         64410     86047875  AfricanAmerican  Female  [20-30)      ?   \n",
       "3        500364     82442376        Caucasian    Male  [30-40)      ?   \n",
       "4         16680     42519267        Caucasian    Male  [40-50)      ?   \n",
       "\n",
       "   admission_type_id  discharge_disposition_id  admission_source_id  \\\n",
       "0                  6                        25                    1   \n",
       "1                  1                         1                    7   \n",
       "2                  1                         1                    7   \n",
       "3                  1                         1                    7   \n",
       "4                  1                         1                    7   \n",
       "\n",
       "   time_in_hospital    ...     citoglipton insulin  glyburide-metformin  \\\n",
       "0                 1    ...              No      No                   No   \n",
       "1                 3    ...              No      Up                   No   \n",
       "2                 2    ...              No      No                   No   \n",
       "3                 2    ...              No      Up                   No   \n",
       "4                 1    ...              No  Steady                   No   \n",
       "\n",
       "   glipizide-metformin  glimepiride-pioglitazone  metformin-rosiglitazone  \\\n",
       "0                   No                        No                       No   \n",
       "1                   No                        No                       No   \n",
       "2                   No                        No                       No   \n",
       "3                   No                        No                       No   \n",
       "4                   No                        No                       No   \n",
       "\n",
       "   metformin-pioglitazone  change diabetesMed readmitted  \n",
       "0                      No      No          No         NO  \n",
       "1                      No      Ch         Yes        >30  \n",
       "2                      No      No         Yes         NO  \n",
       "3                      No      Ch         Yes         NO  \n",
       "4                      No      Ch         Yes         NO  \n",
       "\n",
       "[5 rows x 50 columns]"
      ]
     },
     "execution_count": 3,
     "metadata": {},
     "output_type": "execute_result"
    }
   ],
   "source": [
    "Main_data.head()"
   ]
  },
  {
   "cell_type": "code",
   "execution_count": 4,
   "metadata": {
    "collapsed": true
   },
   "outputs": [
    {
     "data": {
      "text/plain": [
       "encounter_id                 int64\n",
       "patient_nbr                  int64\n",
       "race                        object\n",
       "gender                      object\n",
       "age                         object\n",
       "weight                      object\n",
       "admission_type_id            int64\n",
       "discharge_disposition_id     int64\n",
       "admission_source_id          int64\n",
       "time_in_hospital             int64\n",
       "payer_code                  object\n",
       "medical_specialty           object\n",
       "num_lab_procedures           int64\n",
       "num_procedures               int64\n",
       "num_medications              int64\n",
       "number_outpatient            int64\n",
       "number_emergency             int64\n",
       "number_inpatient             int64\n",
       "diag_1                      object\n",
       "diag_2                      object\n",
       "diag_3                      object\n",
       "number_diagnoses             int64\n",
       "max_glu_serum               object\n",
       "A1Cresult                   object\n",
       "metformin                   object\n",
       "repaglinide                 object\n",
       "nateglinide                 object\n",
       "chlorpropamide              object\n",
       "glimepiride                 object\n",
       "acetohexamide               object\n",
       "glipizide                   object\n",
       "glyburide                   object\n",
       "tolbutamide                 object\n",
       "pioglitazone                object\n",
       "rosiglitazone               object\n",
       "acarbose                    object\n",
       "miglitol                    object\n",
       "troglitazone                object\n",
       "tolazamide                  object\n",
       "examide                     object\n",
       "citoglipton                 object\n",
       "insulin                     object\n",
       "glyburide-metformin         object\n",
       "glipizide-metformin         object\n",
       "glimepiride-pioglitazone    object\n",
       "metformin-rosiglitazone     object\n",
       "metformin-pioglitazone      object\n",
       "change                      object\n",
       "diabetesMed                 object\n",
       "readmitted                  object\n",
       "dtype: object"
      ]
     },
     "execution_count": 4,
     "metadata": {},
     "output_type": "execute_result"
    }
   ],
   "source": [
    "Main_data.dtypes"
   ]
  },
  {
   "cell_type": "code",
   "execution_count": 5,
   "metadata": {
    "collapsed": true
   },
   "outputs": [
    {
     "name": "stdout",
     "output_type": "stream",
     "text": [
      "Total data point and features : (101766, 50)\n",
      "Total patients data :  71518\n"
     ]
    }
   ],
   "source": [
    "print(\"Total data point and features :\",Main_data.shape)\n",
    "print(\"Total patients data : \",Main_data['patient_nbr'].unique().shape[0])"
   ]
  },
  {
   "cell_type": "markdown",
   "metadata": {},
   "source": [
    "#### Mapping list"
   ]
  },
  {
   "cell_type": "code",
   "execution_count": 6,
   "metadata": {
    "scrolled": true
   },
   "outputs": [],
   "source": [
    "admission_type_mapping = pd.read_csv(\"dataset_diabetes/IDs_mapping.csv\",\n",
    "                                    sep=\",\",\n",
    "                                    header=0,\n",
    "                                    nrows=8)"
   ]
  },
  {
   "cell_type": "code",
   "execution_count": 7,
   "metadata": {},
   "outputs": [],
   "source": [
    "discharge_disposition_mapping = pd.read_csv(\"dataset_diabetes/IDs_mapping.csv\",\n",
    "                                            sep=\",\",\n",
    "                                            header=0,\n",
    "                                            nrows=30,\n",
    "                                            skiprows = 10)"
   ]
  },
  {
   "cell_type": "code",
   "execution_count": 8,
   "metadata": {},
   "outputs": [],
   "source": [
    "admission_source_mapping = pd.read_csv(\"dataset_diabetes/IDs_mapping.csv\",\n",
    "                                        sep=\",\",\n",
    "                                        header=0,\n",
    "                                        skiprows=42)"
   ]
  },
  {
   "cell_type": "markdown",
   "metadata": {},
   "source": [
    "# Preprocessing"
   ]
  },
  {
   "cell_type": "code",
   "execution_count": 9,
   "metadata": {
    "collapsed": true
   },
   "outputs": [
    {
     "name": "stdout",
     "output_type": "stream",
     "text": [
      "race    2273\n",
      "weight    98569\n",
      "payer_code    40256\n",
      "medical_specialty    49949\n",
      "diag_1    21\n",
      "diag_2    358\n",
      "diag_3    1423\n"
     ]
    }
   ],
   "source": [
    "#Print how many values are missing if there is no missing value that column is not printed\n",
    "for col in Main_data.columns:\n",
    "    if Main_data[col].dtype == object:\n",
    "        missing_count = Main_data[col][Main_data[col] == '?'].count()\n",
    "        if missing_count!=0:\n",
    "            print(col,\"  \",missing_count)"
   ]
  },
  {
   "cell_type": "code",
   "execution_count": 10,
   "metadata": {},
   "outputs": [],
   "source": [
    "#These columns were removed\n",
    "Main_data = Main_data.drop(['weight','payer_code','medical_specialty'], axis=1)\n",
    "\n",
    "#In this rows were removed\n",
    "Main_data['race'] = Main_data['race'].replace('?', np.nan)\n",
    "Main_data['diag_1'] = Main_data['diag_1'].replace('?', np.nan)\n",
    "Main_data['diag_2'] = Main_data['diag_2'].replace('?', np.nan)\n",
    "Main_data['diag_3'] = Main_data['diag_3'].replace('?', np.nan)\n",
    "Main_data['discharge_disposition_id'] = Main_data['discharge_disposition_id'].replace(11, np.nan)\n",
    "Main_data['gender'] = Main_data['gender'].replace('Unknown/Invalid', np.nan)\n",
    "\n",
    "Main_data = Main_data.dropna()"
   ]
  },
  {
   "cell_type": "code",
   "execution_count": 11,
   "metadata": {
    "collapsed": true
   },
   "outputs": [
    {
     "name": "stdout",
     "output_type": "stream",
     "text": [
      "Patients and features : (96446, 47)\n",
      "Total unique patients data :  67580\n"
     ]
    }
   ],
   "source": [
    "print(\"Patients and features :\",Main_data.shape)\n",
    "print(\"Total unique patients data : \",Main_data['patient_nbr'].unique().shape[0])"
   ]
  },
  {
   "cell_type": "code",
   "execution_count": 12,
   "metadata": {},
   "outputs": [],
   "source": [
    "# Main_data['readmitted'] = Main_data['readmitted'].replace(2,0)"
   ]
  },
  {
   "cell_type": "markdown",
   "metadata": {},
   "source": [
    "## Feature reduction and encoding"
   ]
  },
  {
   "cell_type": "markdown",
   "metadata": {},
   "source": [
    "#### encounter id and patrient number are preprocessed"
   ]
  },
  {
   "cell_type": "markdown",
   "metadata": {},
   "source": [
    "#### race"
   ]
  },
  {
   "cell_type": "code",
   "execution_count": 13,
   "metadata": {},
   "outputs": [],
   "source": [
    "Race_dictionary = {'AfricanAmerican':0, 'Asian':1, 'Caucasian':2, 'Hispanic':3, 'Other':4}\n",
    "Main_data['race'] = Main_data['race'].apply(lambda x: Race_dictionary[x])"
   ]
  },
  {
   "cell_type": "markdown",
   "metadata": {},
   "source": [
    "#### gender"
   ]
  },
  {
   "cell_type": "code",
   "execution_count": 14,
   "metadata": {},
   "outputs": [],
   "source": [
    "gender_dictionary  = {'Female': 1, 'Male': 0,}\n",
    "Main_data['gender'] = Main_data['gender'].apply(lambda x: gender_dictionary[x])"
   ]
  },
  {
   "cell_type": "markdown",
   "metadata": {},
   "source": [
    "#### age"
   ]
  },
  {
   "cell_type": "code",
   "execution_count": 15,
   "metadata": {},
   "outputs": [],
   "source": [
    "age_dictionary = {'[0-10)':5, '[10-20)':15, '[20-30)':25, '[30-40)':35, '[40-50)':45, '[50-60)':55,'[60-70)':65, '[70-80)':75, '[80-90)':85, '[90-100)':95}\n",
    "Main_data['age'] = Main_data['age'].apply(lambda x: age_dictionary[x])"
   ]
  },
  {
   "cell_type": "markdown",
   "metadata": {},
   "source": [
    "#### weight  (removed)"
   ]
  },
  {
   "cell_type": "markdown",
   "metadata": {},
   "source": [
    "#### admission_type_id"
   ]
  },
  {
   "cell_type": "code",
   "execution_count": 16,
   "metadata": {},
   "outputs": [
    {
     "data": {
      "text/html": [
       "<div>\n",
       "<style scoped>\n",
       "    .dataframe tbody tr th:only-of-type {\n",
       "        vertical-align: middle;\n",
       "    }\n",
       "\n",
       "    .dataframe tbody tr th {\n",
       "        vertical-align: top;\n",
       "    }\n",
       "\n",
       "    .dataframe thead th {\n",
       "        text-align: right;\n",
       "    }\n",
       "</style>\n",
       "<table border=\"1\" class=\"dataframe\">\n",
       "  <thead>\n",
       "    <tr style=\"text-align: right;\">\n",
       "      <th></th>\n",
       "      <th>admission_type_id</th>\n",
       "      <th>description</th>\n",
       "    </tr>\n",
       "  </thead>\n",
       "  <tbody>\n",
       "    <tr>\n",
       "      <th>0</th>\n",
       "      <td>1</td>\n",
       "      <td>Emergency</td>\n",
       "    </tr>\n",
       "    <tr>\n",
       "      <th>1</th>\n",
       "      <td>2</td>\n",
       "      <td>Urgent</td>\n",
       "    </tr>\n",
       "    <tr>\n",
       "      <th>2</th>\n",
       "      <td>3</td>\n",
       "      <td>Elective</td>\n",
       "    </tr>\n",
       "    <tr>\n",
       "      <th>3</th>\n",
       "      <td>4</td>\n",
       "      <td>Newborn</td>\n",
       "    </tr>\n",
       "    <tr>\n",
       "      <th>4</th>\n",
       "      <td>5</td>\n",
       "      <td>Not Available</td>\n",
       "    </tr>\n",
       "    <tr>\n",
       "      <th>5</th>\n",
       "      <td>6</td>\n",
       "      <td>NaN</td>\n",
       "    </tr>\n",
       "    <tr>\n",
       "      <th>6</th>\n",
       "      <td>7</td>\n",
       "      <td>Trauma Center</td>\n",
       "    </tr>\n",
       "    <tr>\n",
       "      <th>7</th>\n",
       "      <td>8</td>\n",
       "      <td>Not Mapped</td>\n",
       "    </tr>\n",
       "  </tbody>\n",
       "</table>\n",
       "</div>"
      ],
      "text/plain": [
       "   admission_type_id    description\n",
       "0                  1      Emergency\n",
       "1                  2         Urgent\n",
       "2                  3       Elective\n",
       "3                  4        Newborn\n",
       "4                  5  Not Available\n",
       "5                  6            NaN\n",
       "6                  7  Trauma Center\n",
       "7                  8     Not Mapped"
      ]
     },
     "execution_count": 16,
     "metadata": {},
     "output_type": "execute_result"
    }
   ],
   "source": [
    "admission_type_mapping"
   ]
  },
  {
   "cell_type": "code",
   "execution_count": 17,
   "metadata": {},
   "outputs": [],
   "source": [
    "# (1,2,7) , (5,6,8) are related\n",
    "Main_data['admission_type_id'] = Main_data['admission_type_id'].replace(2,1)\n",
    "Main_data['admission_type_id'] = Main_data['admission_type_id'].replace(7,1)\n",
    "Main_data['admission_type_id'] = Main_data['admission_type_id'].replace(6,5)\n",
    "Main_data['admission_type_id'] = Main_data['admission_type_id'].replace(8,5)\n",
    "\n",
    "# Now classes are 1,3,4,5 so change 5 to 2 for better understanding\n",
    "Main_data['admission_type_id'] = Main_data['admission_type_id'].replace(5,2)"
   ]
  },
  {
   "cell_type": "markdown",
   "metadata": {},
   "source": [
    "#### Discharge ID"
   ]
  },
  {
   "cell_type": "code",
   "execution_count": 18,
   "metadata": {
    "collapsed": true
   },
   "outputs": [
    {
     "data": {
      "text/html": [
       "<div>\n",
       "<style scoped>\n",
       "    .dataframe tbody tr th:only-of-type {\n",
       "        vertical-align: middle;\n",
       "    }\n",
       "\n",
       "    .dataframe tbody tr th {\n",
       "        vertical-align: top;\n",
       "    }\n",
       "\n",
       "    .dataframe thead th {\n",
       "        text-align: right;\n",
       "    }\n",
       "</style>\n",
       "<table border=\"1\" class=\"dataframe\">\n",
       "  <thead>\n",
       "    <tr style=\"text-align: right;\">\n",
       "      <th></th>\n",
       "      <th>discharge_disposition_id</th>\n",
       "      <th>description</th>\n",
       "    </tr>\n",
       "  </thead>\n",
       "  <tbody>\n",
       "    <tr>\n",
       "      <th>0</th>\n",
       "      <td>1</td>\n",
       "      <td>Discharged to home</td>\n",
       "    </tr>\n",
       "    <tr>\n",
       "      <th>1</th>\n",
       "      <td>2</td>\n",
       "      <td>Discharged/transferred to another short term h...</td>\n",
       "    </tr>\n",
       "    <tr>\n",
       "      <th>2</th>\n",
       "      <td>3</td>\n",
       "      <td>Discharged/transferred to SNF</td>\n",
       "    </tr>\n",
       "    <tr>\n",
       "      <th>3</th>\n",
       "      <td>4</td>\n",
       "      <td>Discharged/transferred to ICF</td>\n",
       "    </tr>\n",
       "    <tr>\n",
       "      <th>4</th>\n",
       "      <td>5</td>\n",
       "      <td>Discharged/transferred to another type of inpa...</td>\n",
       "    </tr>\n",
       "    <tr>\n",
       "      <th>5</th>\n",
       "      <td>6</td>\n",
       "      <td>Discharged/transferred to home with home healt...</td>\n",
       "    </tr>\n",
       "    <tr>\n",
       "      <th>6</th>\n",
       "      <td>7</td>\n",
       "      <td>Left AMA</td>\n",
       "    </tr>\n",
       "    <tr>\n",
       "      <th>7</th>\n",
       "      <td>8</td>\n",
       "      <td>Discharged/transferred to home under care of H...</td>\n",
       "    </tr>\n",
       "    <tr>\n",
       "      <th>8</th>\n",
       "      <td>9</td>\n",
       "      <td>Admitted as an inpatient to this hospital</td>\n",
       "    </tr>\n",
       "    <tr>\n",
       "      <th>9</th>\n",
       "      <td>10</td>\n",
       "      <td>Neonate discharged to another hospital for neo...</td>\n",
       "    </tr>\n",
       "    <tr>\n",
       "      <th>10</th>\n",
       "      <td>11</td>\n",
       "      <td>Expired</td>\n",
       "    </tr>\n",
       "    <tr>\n",
       "      <th>11</th>\n",
       "      <td>12</td>\n",
       "      <td>Still patient or expected to return for outpat...</td>\n",
       "    </tr>\n",
       "    <tr>\n",
       "      <th>12</th>\n",
       "      <td>13</td>\n",
       "      <td>Hospice / home</td>\n",
       "    </tr>\n",
       "    <tr>\n",
       "      <th>13</th>\n",
       "      <td>14</td>\n",
       "      <td>Hospice / medical facility</td>\n",
       "    </tr>\n",
       "    <tr>\n",
       "      <th>14</th>\n",
       "      <td>15</td>\n",
       "      <td>Discharged/transferred within this institution...</td>\n",
       "    </tr>\n",
       "    <tr>\n",
       "      <th>15</th>\n",
       "      <td>16</td>\n",
       "      <td>Discharged/transferred/referred another instit...</td>\n",
       "    </tr>\n",
       "    <tr>\n",
       "      <th>16</th>\n",
       "      <td>17</td>\n",
       "      <td>Discharged/transferred/referred to this instit...</td>\n",
       "    </tr>\n",
       "    <tr>\n",
       "      <th>17</th>\n",
       "      <td>18</td>\n",
       "      <td>NaN</td>\n",
       "    </tr>\n",
       "    <tr>\n",
       "      <th>18</th>\n",
       "      <td>19</td>\n",
       "      <td>Expired at home. Medicaid only, hospice.</td>\n",
       "    </tr>\n",
       "    <tr>\n",
       "      <th>19</th>\n",
       "      <td>20</td>\n",
       "      <td>Expired in a medical facility. Medicaid only, ...</td>\n",
       "    </tr>\n",
       "    <tr>\n",
       "      <th>20</th>\n",
       "      <td>21</td>\n",
       "      <td>Expired, place unknown. Medicaid only, hospice.</td>\n",
       "    </tr>\n",
       "    <tr>\n",
       "      <th>21</th>\n",
       "      <td>22</td>\n",
       "      <td>Discharged/transferred to another rehab fac in...</td>\n",
       "    </tr>\n",
       "    <tr>\n",
       "      <th>22</th>\n",
       "      <td>23</td>\n",
       "      <td>Discharged/transferred to a long term care hos...</td>\n",
       "    </tr>\n",
       "    <tr>\n",
       "      <th>23</th>\n",
       "      <td>24</td>\n",
       "      <td>Discharged/transferred to a nursing facility c...</td>\n",
       "    </tr>\n",
       "    <tr>\n",
       "      <th>24</th>\n",
       "      <td>25</td>\n",
       "      <td>Not Mapped</td>\n",
       "    </tr>\n",
       "    <tr>\n",
       "      <th>25</th>\n",
       "      <td>26</td>\n",
       "      <td>Unknown/Invalid</td>\n",
       "    </tr>\n",
       "    <tr>\n",
       "      <th>26</th>\n",
       "      <td>30</td>\n",
       "      <td>Discharged/transferred to another Type of Heal...</td>\n",
       "    </tr>\n",
       "    <tr>\n",
       "      <th>27</th>\n",
       "      <td>27</td>\n",
       "      <td>Discharged/transferred to a federal health car...</td>\n",
       "    </tr>\n",
       "    <tr>\n",
       "      <th>28</th>\n",
       "      <td>28</td>\n",
       "      <td>Discharged/transferred/referred to a psychiatr...</td>\n",
       "    </tr>\n",
       "    <tr>\n",
       "      <th>29</th>\n",
       "      <td>29</td>\n",
       "      <td>Discharged/transferred to a Critical Access Ho...</td>\n",
       "    </tr>\n",
       "  </tbody>\n",
       "</table>\n",
       "</div>"
      ],
      "text/plain": [
       "    discharge_disposition_id  \\\n",
       "0                          1   \n",
       "1                          2   \n",
       "2                          3   \n",
       "3                          4   \n",
       "4                          5   \n",
       "5                          6   \n",
       "6                          7   \n",
       "7                          8   \n",
       "8                          9   \n",
       "9                         10   \n",
       "10                        11   \n",
       "11                        12   \n",
       "12                        13   \n",
       "13                        14   \n",
       "14                        15   \n",
       "15                        16   \n",
       "16                        17   \n",
       "17                        18   \n",
       "18                        19   \n",
       "19                        20   \n",
       "20                        21   \n",
       "21                        22   \n",
       "22                        23   \n",
       "23                        24   \n",
       "24                        25   \n",
       "25                        26   \n",
       "26                        30   \n",
       "27                        27   \n",
       "28                        28   \n",
       "29                        29   \n",
       "\n",
       "                                          description  \n",
       "0                                  Discharged to home  \n",
       "1   Discharged/transferred to another short term h...  \n",
       "2                       Discharged/transferred to SNF  \n",
       "3                       Discharged/transferred to ICF  \n",
       "4   Discharged/transferred to another type of inpa...  \n",
       "5   Discharged/transferred to home with home healt...  \n",
       "6                                            Left AMA  \n",
       "7   Discharged/transferred to home under care of H...  \n",
       "8           Admitted as an inpatient to this hospital  \n",
       "9   Neonate discharged to another hospital for neo...  \n",
       "10                                            Expired  \n",
       "11  Still patient or expected to return for outpat...  \n",
       "12                                     Hospice / home  \n",
       "13                         Hospice / medical facility  \n",
       "14  Discharged/transferred within this institution...  \n",
       "15  Discharged/transferred/referred another instit...  \n",
       "16  Discharged/transferred/referred to this instit...  \n",
       "17                                                NaN  \n",
       "18           Expired at home. Medicaid only, hospice.  \n",
       "19  Expired in a medical facility. Medicaid only, ...  \n",
       "20    Expired, place unknown. Medicaid only, hospice.  \n",
       "21  Discharged/transferred to another rehab fac in...  \n",
       "22  Discharged/transferred to a long term care hos...  \n",
       "23  Discharged/transferred to a nursing facility c...  \n",
       "24                                         Not Mapped  \n",
       "25                                    Unknown/Invalid  \n",
       "26  Discharged/transferred to another Type of Heal...  \n",
       "27  Discharged/transferred to a federal health car...  \n",
       "28  Discharged/transferred/referred to a psychiatr...  \n",
       "29  Discharged/transferred to a Critical Access Ho...  "
      ]
     },
     "execution_count": 18,
     "metadata": {},
     "output_type": "execute_result"
    }
   ],
   "source": [
    "discharge_disposition_mapping"
   ]
  },
  {
   "cell_type": "code",
   "execution_count": 19,
   "metadata": {},
   "outputs": [],
   "source": [
    "# (1,6,8,9,13) , (2,3,4,5,14,22,23) , (10,12,15,16,17) , (18,25,26) are similar\n",
    "Main_data['discharge_disposition_id'] = Main_data['discharge_disposition_id'].replace(6,1)\n",
    "Main_data['discharge_disposition_id'] = Main_data['discharge_disposition_id'].replace(8,1)\n",
    "Main_data['discharge_disposition_id'] = Main_data['discharge_disposition_id'].replace(9,1)\n",
    "Main_data['discharge_disposition_id'] = Main_data['discharge_disposition_id'].replace(13,1)\n",
    "Main_data['discharge_disposition_id'] = Main_data['discharge_disposition_id'].replace(3,2)\n",
    "Main_data['discharge_disposition_id'] = Main_data['discharge_disposition_id'].replace(4,2)\n",
    "Main_data['discharge_disposition_id'] = Main_data['discharge_disposition_id'].replace(5,2)\n",
    "Main_data['discharge_disposition_id'] = Main_data['discharge_disposition_id'].replace(14,2)\n",
    "Main_data['discharge_disposition_id'] = Main_data['discharge_disposition_id'].replace(22,2)\n",
    "Main_data['discharge_disposition_id'] = Main_data['discharge_disposition_id'].replace(23,2)\n",
    "Main_data['discharge_disposition_id'] = Main_data['discharge_disposition_id'].replace(24,2)\n",
    "Main_data['discharge_disposition_id'] = Main_data['discharge_disposition_id'].replace(12,10)\n",
    "Main_data['discharge_disposition_id'] = Main_data['discharge_disposition_id'].replace(15,10)\n",
    "Main_data['discharge_disposition_id'] = Main_data['discharge_disposition_id'].replace(16,10)\n",
    "Main_data['discharge_disposition_id'] = Main_data['discharge_disposition_id'].replace(17,10)\n",
    "Main_data['discharge_disposition_id'] = Main_data['discharge_disposition_id'].replace(25,18)\n",
    "Main_data['discharge_disposition_id'] = Main_data['discharge_disposition_id'].replace(26,18)\n",
    "\n",
    "#Now category are 1, 2, 7, 10, 11, 18, 19, 20, 27, 28 converting them into increasing order with 1\n",
    "Main_data['discharge_disposition_id'] = Main_data['discharge_disposition_id'].replace(7,3)\n",
    "Main_data['discharge_disposition_id'] = Main_data['discharge_disposition_id'].replace(10,4)\n",
    "Main_data['discharge_disposition_id'] = Main_data['discharge_disposition_id'].replace(11,5)\n",
    "Main_data['discharge_disposition_id'] = Main_data['discharge_disposition_id'].replace(18,6)\n",
    "Main_data['discharge_disposition_id'] = Main_data['discharge_disposition_id'].replace(19,7)\n",
    "Main_data['discharge_disposition_id'] = Main_data['discharge_disposition_id'].replace(20,8)\n",
    "Main_data['discharge_disposition_id'] = Main_data['discharge_disposition_id'].replace(27,9)\n",
    "Main_data['discharge_disposition_id'] = Main_data['discharge_disposition_id'].replace(28,10)"
   ]
  },
  {
   "cell_type": "markdown",
   "metadata": {},
   "source": [
    "#### Admission source id"
   ]
  },
  {
   "cell_type": "code",
   "execution_count": 20,
   "metadata": {
    "collapsed": true
   },
   "outputs": [
    {
     "data": {
      "text/html": [
       "<div>\n",
       "<style scoped>\n",
       "    .dataframe tbody tr th:only-of-type {\n",
       "        vertical-align: middle;\n",
       "    }\n",
       "\n",
       "    .dataframe tbody tr th {\n",
       "        vertical-align: top;\n",
       "    }\n",
       "\n",
       "    .dataframe thead th {\n",
       "        text-align: right;\n",
       "    }\n",
       "</style>\n",
       "<table border=\"1\" class=\"dataframe\">\n",
       "  <thead>\n",
       "    <tr style=\"text-align: right;\">\n",
       "      <th></th>\n",
       "      <th>admission_source_id</th>\n",
       "      <th>description</th>\n",
       "    </tr>\n",
       "  </thead>\n",
       "  <tbody>\n",
       "    <tr>\n",
       "      <th>0</th>\n",
       "      <td>1</td>\n",
       "      <td>Physician Referral</td>\n",
       "    </tr>\n",
       "    <tr>\n",
       "      <th>1</th>\n",
       "      <td>2</td>\n",
       "      <td>Clinic Referral</td>\n",
       "    </tr>\n",
       "    <tr>\n",
       "      <th>2</th>\n",
       "      <td>3</td>\n",
       "      <td>HMO Referral</td>\n",
       "    </tr>\n",
       "    <tr>\n",
       "      <th>3</th>\n",
       "      <td>4</td>\n",
       "      <td>Transfer from a hospital</td>\n",
       "    </tr>\n",
       "    <tr>\n",
       "      <th>4</th>\n",
       "      <td>5</td>\n",
       "      <td>Transfer from a Skilled Nursing Facility (SNF)</td>\n",
       "    </tr>\n",
       "    <tr>\n",
       "      <th>5</th>\n",
       "      <td>6</td>\n",
       "      <td>Transfer from another health care facility</td>\n",
       "    </tr>\n",
       "    <tr>\n",
       "      <th>6</th>\n",
       "      <td>7</td>\n",
       "      <td>Emergency Room</td>\n",
       "    </tr>\n",
       "    <tr>\n",
       "      <th>7</th>\n",
       "      <td>8</td>\n",
       "      <td>Court/Law Enforcement</td>\n",
       "    </tr>\n",
       "    <tr>\n",
       "      <th>8</th>\n",
       "      <td>9</td>\n",
       "      <td>Not Available</td>\n",
       "    </tr>\n",
       "    <tr>\n",
       "      <th>9</th>\n",
       "      <td>10</td>\n",
       "      <td>Transfer from critial access hospital</td>\n",
       "    </tr>\n",
       "    <tr>\n",
       "      <th>10</th>\n",
       "      <td>11</td>\n",
       "      <td>Normal Delivery</td>\n",
       "    </tr>\n",
       "    <tr>\n",
       "      <th>11</th>\n",
       "      <td>12</td>\n",
       "      <td>Premature Delivery</td>\n",
       "    </tr>\n",
       "    <tr>\n",
       "      <th>12</th>\n",
       "      <td>13</td>\n",
       "      <td>Sick Baby</td>\n",
       "    </tr>\n",
       "    <tr>\n",
       "      <th>13</th>\n",
       "      <td>14</td>\n",
       "      <td>Extramural Birth</td>\n",
       "    </tr>\n",
       "    <tr>\n",
       "      <th>14</th>\n",
       "      <td>15</td>\n",
       "      <td>Not Available</td>\n",
       "    </tr>\n",
       "    <tr>\n",
       "      <th>15</th>\n",
       "      <td>17</td>\n",
       "      <td>NaN</td>\n",
       "    </tr>\n",
       "    <tr>\n",
       "      <th>16</th>\n",
       "      <td>18</td>\n",
       "      <td>Transfer From Another Home Health Agency</td>\n",
       "    </tr>\n",
       "    <tr>\n",
       "      <th>17</th>\n",
       "      <td>19</td>\n",
       "      <td>Readmission to Same Home Health Agency</td>\n",
       "    </tr>\n",
       "    <tr>\n",
       "      <th>18</th>\n",
       "      <td>20</td>\n",
       "      <td>Not Mapped</td>\n",
       "    </tr>\n",
       "    <tr>\n",
       "      <th>19</th>\n",
       "      <td>21</td>\n",
       "      <td>Unknown/Invalid</td>\n",
       "    </tr>\n",
       "    <tr>\n",
       "      <th>20</th>\n",
       "      <td>22</td>\n",
       "      <td>Transfer from hospital inpt/same fac reslt in...</td>\n",
       "    </tr>\n",
       "    <tr>\n",
       "      <th>21</th>\n",
       "      <td>23</td>\n",
       "      <td>Born inside this hospital</td>\n",
       "    </tr>\n",
       "    <tr>\n",
       "      <th>22</th>\n",
       "      <td>24</td>\n",
       "      <td>Born outside this hospital</td>\n",
       "    </tr>\n",
       "    <tr>\n",
       "      <th>23</th>\n",
       "      <td>25</td>\n",
       "      <td>Transfer from Ambulatory Surgery Center</td>\n",
       "    </tr>\n",
       "    <tr>\n",
       "      <th>24</th>\n",
       "      <td>26</td>\n",
       "      <td>Transfer from Hospice</td>\n",
       "    </tr>\n",
       "  </tbody>\n",
       "</table>\n",
       "</div>"
      ],
      "text/plain": [
       "    admission_source_id                                        description\n",
       "0                     1                                 Physician Referral\n",
       "1                     2                                    Clinic Referral\n",
       "2                     3                                       HMO Referral\n",
       "3                     4                           Transfer from a hospital\n",
       "4                     5     Transfer from a Skilled Nursing Facility (SNF)\n",
       "5                     6         Transfer from another health care facility\n",
       "6                     7                                     Emergency Room\n",
       "7                     8                              Court/Law Enforcement\n",
       "8                     9                                      Not Available\n",
       "9                    10              Transfer from critial access hospital\n",
       "10                   11                                    Normal Delivery\n",
       "11                   12                                 Premature Delivery\n",
       "12                   13                                          Sick Baby\n",
       "13                   14                                   Extramural Birth\n",
       "14                   15                                      Not Available\n",
       "15                   17                                                NaN\n",
       "16                   18           Transfer From Another Home Health Agency\n",
       "17                   19             Readmission to Same Home Health Agency\n",
       "18                   20                                         Not Mapped\n",
       "19                   21                                    Unknown/Invalid\n",
       "20                   22   Transfer from hospital inpt/same fac reslt in...\n",
       "21                   23                          Born inside this hospital\n",
       "22                   24                         Born outside this hospital\n",
       "23                   25            Transfer from Ambulatory Surgery Center\n",
       "24                   26                              Transfer from Hospice"
      ]
     },
     "execution_count": 20,
     "metadata": {},
     "output_type": "execute_result"
    }
   ],
   "source": [
    "admission_source_mapping"
   ]
  },
  {
   "cell_type": "code",
   "execution_count": 21,
   "metadata": {},
   "outputs": [],
   "source": [
    "# (1,2,3) , (4,5,6,10,22,25) , (9,15,17,20,21) , (11,13,14) are similar\n",
    "Main_data['admission_source_id'] = Main_data['admission_source_id'].replace(2,1)\n",
    "Main_data['admission_source_id'] = Main_data['admission_source_id'].replace(3,1)\n",
    "Main_data['admission_source_id'] = Main_data['admission_source_id'].replace(5,4)\n",
    "Main_data['admission_source_id'] = Main_data['admission_source_id'].replace(6,4)\n",
    "Main_data['admission_source_id'] = Main_data['admission_source_id'].replace(10,4)\n",
    "Main_data['admission_source_id'] = Main_data['admission_source_id'].replace(22,4)\n",
    "Main_data['admission_source_id'] = Main_data['admission_source_id'].replace(25,4)\n",
    "Main_data['admission_source_id'] = Main_data['admission_source_id'].replace(15,9)\n",
    "Main_data['admission_source_id'] = Main_data['admission_source_id'].replace(17,9)\n",
    "Main_data['admission_source_id'] = Main_data['admission_source_id'].replace(20,9)\n",
    "Main_data['admission_source_id'] = Main_data['admission_source_id'].replace(21,9)\n",
    "Main_data['admission_source_id'] = Main_data['admission_source_id'].replace(13,11)\n",
    "Main_data['admission_source_id'] = Main_data['admission_source_id'].replace(14,11)\n",
    "\n",
    "# Now categories are 1, 4, 7, 8, 9, 11 converting them into increasing order with 1\n",
    "Main_data['admission_source_id'] = Main_data['admission_source_id'].replace(7,2)\n",
    "Main_data['admission_source_id'] = Main_data['admission_source_id'].replace(8,3)\n",
    "Main_data['admission_source_id'] = Main_data['admission_source_id'].replace(9,5)\n",
    "Main_data['admission_source_id'] = Main_data['admission_source_id'].replace(11,6)"
   ]
  },
  {
   "cell_type": "markdown",
   "metadata": {},
   "source": [
    "#### time_in_hospital is in number and preprocessed"
   ]
  },
  {
   "cell_type": "markdown",
   "metadata": {},
   "source": [
    "#### Payer code (removed)"
   ]
  },
  {
   "cell_type": "markdown",
   "metadata": {},
   "source": [
    "#### Medical specialty (removed)"
   ]
  },
  {
   "cell_type": "markdown",
   "metadata": {},
   "source": [
    "#### num_lab_procedures, num_procedures, num_medications, number_outpatient, number_emergency, number_inpatient are in numbers and processed"
   ]
  },
  {
   "cell_type": "markdown",
   "metadata": {},
   "source": [
    "#### Diagnosis columns"
   ]
  },
  {
   "cell_type": "code",
   "execution_count": 24,
   "metadata": {},
   "outputs": [],
   "source": [
    "Main_data['level1_diag1'] = Main_data['diag_1']\n",
    "Main_data['level2_diag1'] = Main_data['diag_1']\n",
    "Main_data['level1_diag2'] = Main_data['diag_2']\n",
    "Main_data['level2_diag2'] = Main_data['diag_2']\n",
    "Main_data['level1_diag3'] = Main_data['diag_3']\n",
    "Main_data['level2_diag3'] = Main_data['diag_3']\n",
    "\n",
    "Main_data.loc[Main_data['diag_1'].str.contains('V'), ['level1_diag1', 'level2_diag1']] = 0\n",
    "Main_data.loc[Main_data['diag_1'].str.contains('E'), ['level1_diag1', 'level2_diag1']] = 0\n",
    "Main_data.loc[Main_data['diag_2'].str.contains('V'), ['level1_diag2', 'level2_diag2']] = 0\n",
    "Main_data.loc[Main_data['diag_2'].str.contains('E'), ['level1_diag2', 'level2_diag2']] = 0\n",
    "Main_data.loc[Main_data['diag_3'].str.contains('V'), ['level1_diag3', 'level2_diag3']] = 0\n",
    "Main_data.loc[Main_data['diag_3'].str.contains('E'), ['level1_diag3', 'level2_diag3']] = 0\n",
    "\n",
    "Main_data['level1_diag1'] = Main_data['level1_diag1'].astype(float)\n",
    "Main_data['level2_diag1'] = Main_data['level2_diag1'].astype(float)\n",
    "Main_data['level1_diag2'] = Main_data['level1_diag2'].astype(float)\n",
    "Main_data['level2_diag2'] = Main_data['level2_diag2'].astype(float)\n",
    "Main_data['level1_diag3'] = Main_data['level1_diag3'].astype(float)\n",
    "Main_data['level2_diag3'] = Main_data['level2_diag3'].astype(float)\n",
    "\n",
    "for index, row in Main_data.iterrows():\n",
    "    if (row['level1_diag1'] >= 390 and row['level1_diag1'] < 460) or (np.floor(row['level1_diag1']) == 785):\n",
    "        Main_data.loc[index, 'level1_diag1'] = 1\n",
    "    elif (row['level1_diag1'] >= 460 and row['level1_diag1'] < 520) or (np.floor(row['level1_diag1']) == 786):\n",
    "        Main_data.loc[index, 'level1_diag1'] = 2\n",
    "    elif (row['level1_diag1'] >= 520 and row['level1_diag1'] < 580) or (np.floor(row['level1_diag1']) == 787):\n",
    "        Main_data.loc[index, 'level1_diag1'] = 3\n",
    "    elif (np.floor(row['level1_diag1']) == 250):\n",
    "        Main_data.loc[index, 'level1_diag1'] = 4\n",
    "    elif (row['level1_diag1'] >= 800 and row['level1_diag1'] < 1000):\n",
    "        Main_data.loc[index, 'level1_diag1'] = 5\n",
    "    elif (row['level1_diag1'] >= 710 and row['level1_diag1'] < 740):\n",
    "        Main_data.loc[index, 'level1_diag1'] = 6\n",
    "    elif (row['level1_diag1'] >= 580 and row['level1_diag1'] < 630) or (np.floor(row['level1_diag1']) == 788):\n",
    "        Main_data.loc[index, 'level1_diag1'] = 7\n",
    "    elif (row['level1_diag1'] >= 140 and row['level1_diag1'] < 240):\n",
    "        Main_data.loc[index, 'level1_diag1'] = 8\n",
    "    else:\n",
    "        Main_data.loc[index, 'level1_diag1'] = 0\n",
    "        \n",
    "    if (row['level1_diag2'] >= 390 and row['level1_diag2'] < 460) or (np.floor(row['level1_diag2']) == 785):\n",
    "        Main_data.loc[index, 'level1_diag2'] = 1\n",
    "    elif (row['level1_diag2'] >= 460 and row['level1_diag2'] < 520) or (np.floor(row['level1_diag2']) == 786):\n",
    "        Main_data.loc[index, 'level1_diag2'] = 2\n",
    "    elif (row['level1_diag2'] >= 520 and row['level1_diag2'] < 580) or (np.floor(row['level1_diag2']) == 787):\n",
    "        Main_data.loc[index, 'level1_diag2'] = 3\n",
    "    elif (np.floor(row['level1_diag2']) == 250):\n",
    "        Main_data.loc[index, 'level1_diag2'] = 4\n",
    "    elif (row['level1_diag2'] >= 800 and row['level1_diag2'] < 1000):\n",
    "        Main_data.loc[index, 'level1_diag2'] = 5\n",
    "    elif (row['level1_diag2'] >= 710 and row['level1_diag2'] < 740):\n",
    "        Main_data.loc[index, 'level1_diag2'] = 6\n",
    "    elif (row['level1_diag2'] >= 580 and row['level1_diag2'] < 630) or (np.floor(row['level1_diag2']) == 788):\n",
    "        Main_data.loc[index, 'level1_diag2'] = 7\n",
    "    elif (row['level1_diag2'] >= 140 and row['level1_diag2'] < 240):\n",
    "        Main_data.loc[index, 'level1_diag2'] = 8\n",
    "    else:\n",
    "        Main_data.loc[index, 'level1_diag2'] = 0\n",
    "    \n",
    "    if (row['level1_diag3'] >= 390 and row['level1_diag3'] < 460) or (np.floor(row['level1_diag3']) == 785):\n",
    "        Main_data.loc[index, 'level1_diag3'] = 1\n",
    "    elif (row['level1_diag3'] >= 460 and row['level1_diag3'] < 520) or (np.floor(row['level1_diag3']) == 786):\n",
    "        Main_data.loc[index, 'level1_diag3'] = 2\n",
    "    elif (row['level1_diag3'] >= 520 and row['level1_diag3'] < 580) or (np.floor(row['level1_diag3']) == 787):\n",
    "        Main_data.loc[index, 'level1_diag3'] = 3\n",
    "    elif (np.floor(row['level1_diag3']) == 250):\n",
    "        Main_data.loc[index, 'level1_diag3'] = 4\n",
    "    elif (row['level1_diag3'] >= 800 and row['level1_diag3'] < 1000):\n",
    "        Main_data.loc[index, 'level1_diag3'] = 5\n",
    "    elif (row['level1_diag3'] >= 710 and row['level1_diag3'] < 740):\n",
    "        Main_data.loc[index, 'level1_diag3'] = 6\n",
    "    elif (row['level1_diag3'] >= 580 and row['level1_diag3'] < 630) or (np.floor(row['level1_diag3']) == 788):\n",
    "        Main_data.loc[index, 'level1_diag3'] = 7\n",
    "    elif (row['level1_diag3'] >= 140 and row['level1_diag3'] < 240):\n",
    "        Main_data.loc[index, 'level1_diag3'] = 8\n",
    "    else:\n",
    "        Main_data.loc[index, 'level1_diag3'] = 0\n",
    "        \n",
    "for index, row in Main_data.iterrows():\n",
    "    if (row['level2_diag1'] >= 390 and row['level2_diag1'] < 399):\n",
    "        Main_data.loc[index, 'level2_diag1'] = 1\n",
    "    elif (row['level2_diag1'] >= 401 and row['level2_diag1'] < 415):\n",
    "        Main_data.loc[index, 'level2_diag1'] = 2\n",
    "    elif (row['level2_diag1'] >= 415 and row['level2_diag1'] < 460):\n",
    "        Main_data.loc[index, 'level2_diag1'] = 3\n",
    "    elif (np.floor(row['level2_diag1']) == 785):\n",
    "        Main_data.loc[index, 'level2_diag1'] = 4\n",
    "    elif (row['level2_diag1'] >= 460 and row['level2_diag1'] < 489):\n",
    "        Main_data.loc[index, 'level2_diag1'] = 5\n",
    "    elif (row['level2_diag1'] >= 490 and row['level2_diag1'] < 497):\n",
    "        Main_data.loc[index, 'level2_diag1'] = 6\n",
    "    elif (row['level2_diag1'] >= 500 and row['level2_diag1'] < 520):\n",
    "        Main_data.loc[index, 'level2_diag1'] = 7\n",
    "    elif (np.floor(row['level2_diag1']) == 786):\n",
    "        Main_data.loc[index, 'level2_diag1'] = 8\n",
    "    elif (row['level2_diag1'] >= 520 and row['level2_diag1'] < 530):\n",
    "        Main_data.loc[index, 'level2_diag1'] = 9\n",
    "    elif (row['level2_diag1'] >= 530 and row['level2_diag1'] < 544):\n",
    "        Main_data.loc[index, 'level2_diag1'] = 10\n",
    "    elif (row['level2_diag1'] >= 550 and row['level2_diag1'] < 554):\n",
    "        Main_data.loc[index, 'level2_diag1'] = 11\n",
    "    elif (row['level2_diag1'] >= 555 and row['level2_diag1'] < 580):\n",
    "        Main_data.loc[index, 'level2_diag1'] = 12\n",
    "    elif (np.floor(row['level2_diag1']) == 787):\n",
    "        Main_data.loc[index, 'level2_diag1'] = 13\n",
    "    elif (np.floor(row['level2_diag1']) == 250):\n",
    "        Main_data.loc[index, 'level2_diag1'] = 14\n",
    "    elif (row['level2_diag1'] >= 800 and row['level2_diag1'] < 1000):\n",
    "        Main_data.loc[index, 'level2_diag1'] = 15\n",
    "    elif (row['level2_diag1'] >= 710 and row['level2_diag1'] < 740):\n",
    "        Main_data.loc[index, 'level2_diag1'] = 16\n",
    "    elif (row['level2_diag1'] >= 580 and row['level2_diag1'] < 630):\n",
    "        Main_data.loc[index, 'level2_diag1'] = 17\n",
    "    elif (np.floor(row['level2_diag1']) == 788):\n",
    "        Main_data.loc[index, 'level2_diag1'] = 18\n",
    "    elif (row['level2_diag1'] >= 140 and row['level2_diag1'] < 240):\n",
    "        Main_data.loc[index, 'level2_diag1'] = 19\n",
    "    elif row['level2_diag1'] >= 240 and row['level2_diag1'] < 280 and (np.floor(row['level2_diag1']) != 250):\n",
    "        Main_data.loc[index, 'level2_diag1'] = 20\n",
    "    elif (row['level2_diag1'] >= 680 and row['level2_diag1'] < 710) or (np.floor(row['level2_diag1']) == 782):\n",
    "        Main_data.loc[index, 'level2_diag1'] = 21\n",
    "    elif (row['level2_diag1'] >= 290 and row['level2_diag1'] < 320):\n",
    "        Main_data.loc[index, 'level2_diag1'] = 22\n",
    "    else:\n",
    "        Main_data.loc[index, 'level2_diag1'] = 0\n",
    "        \n",
    "    if (row['level2_diag2'] >= 390 and row['level2_diag2'] < 399):\n",
    "        Main_data.loc[index, 'level2_diag2'] = 1\n",
    "    elif (row['level2_diag2'] >= 401 and row['level2_diag2'] < 415):\n",
    "        Main_data.loc[index, 'level2_diag2'] = 2\n",
    "    elif (row['level2_diag2'] >= 415 and row['level2_diag2'] < 460):\n",
    "        Main_data.loc[index, 'level2_diag2'] = 3\n",
    "    elif (np.floor(row['level2_diag2']) == 785):\n",
    "        Main_data.loc[index, 'level2_diag2'] = 4\n",
    "    elif (row['level2_diag2'] >= 460 and row['level2_diag2'] < 489):\n",
    "        Main_data.loc[index, 'level2_diag2'] = 5\n",
    "    elif (row['level2_diag2'] >= 490 and row['level2_diag2'] < 497):\n",
    "        Main_data.loc[index, 'level2_diag2'] = 6\n",
    "    elif (row['level2_diag2'] >= 500 and row['level2_diag2'] < 520):\n",
    "        Main_data.loc[index, 'level2_diag2'] = 7\n",
    "    elif (np.floor(row['level2_diag2']) == 786):\n",
    "        Main_data.loc[index, 'level2_diag2'] = 8\n",
    "    elif (row['level2_diag2'] >= 520 and row['level2_diag2'] < 530):\n",
    "        Main_data.loc[index, 'level2_diag2'] = 9\n",
    "    elif (row['level2_diag2'] >= 530 and row['level2_diag2'] < 544):\n",
    "        Main_data.loc[index, 'level2_diag2'] = 10\n",
    "    elif (row['level2_diag2'] >= 550 and row['level2_diag2'] < 554):\n",
    "        Main_data.loc[index, 'level2_diag2'] = 11\n",
    "    elif (row['level2_diag2'] >= 555 and row['level2_diag2'] < 580):\n",
    "        Main_data.loc[index, 'level2_diag2'] = 12\n",
    "    elif (np.floor(row['level2_diag2']) == 787):\n",
    "        Main_data.loc[index, 'level2_diag2'] = 13\n",
    "    elif (np.floor(row['level2_diag2']) == 250):\n",
    "        Main_data.loc[index, 'level2_diag2'] = 14\n",
    "    elif (row['level2_diag2'] >= 800 and row['level2_diag2'] < 1000):\n",
    "        Main_data.loc[index, 'level2_diag2'] = 15\n",
    "    elif (row['level2_diag2'] >= 710 and row['level2_diag2'] < 740):\n",
    "        Main_data.loc[index, 'level2_diag2'] = 16\n",
    "    elif (row['level2_diag2'] >= 580 and row['level2_diag2'] < 630):\n",
    "        Main_data.loc[index, 'level2_diag2'] = 17\n",
    "    elif (np.floor(row['level2_diag2']) == 788):\n",
    "        Main_data.loc[index, 'level2_diag2'] = 18\n",
    "    elif (row['level2_diag2'] >= 140 and row['level2_diag2'] < 240):\n",
    "        Main_data.loc[index, 'level2_diag2'] = 19\n",
    "    elif row['level2_diag2'] >= 240 and row['level2_diag2'] < 280 and (np.floor(row['level2_diag2']) != 250):\n",
    "        Main_data.loc[index, 'level2_diag2'] = 20\n",
    "    elif (row['level2_diag2'] >= 680 and row['level2_diag2'] < 710) or (np.floor(row['level2_diag2']) == 782):\n",
    "        Main_data.loc[index, 'level2_diag2'] = 21\n",
    "    elif (row['level2_diag2'] >= 290 and row['level2_diag2'] < 320):\n",
    "        Main_data.loc[index, 'level2_diag2'] = 22\n",
    "    else:\n",
    "        Main_data.loc[index, 'level2_diag2'] = 0\n",
    "        \n",
    "        \n",
    "    if (row['level2_diag3'] >= 390 and row['level2_diag3'] < 399):\n",
    "        Main_data.loc[index, 'level2_diag3'] = 1\n",
    "    elif (row['level2_diag3'] >= 401 and row['level2_diag3'] < 415):\n",
    "        Main_data.loc[index, 'level2_diag3'] = 2\n",
    "    elif (row['level2_diag3'] >= 415 and row['level2_diag3'] < 460):\n",
    "        Main_data.loc[index, 'level2_diag3'] = 3\n",
    "    elif (np.floor(row['level2_diag3']) == 785):\n",
    "        Main_data.loc[index, 'level2_diag3'] = 4\n",
    "    elif (row['level2_diag3'] >= 460 and row['level2_diag3'] < 489):\n",
    "        Main_data.loc[index, 'level2_diag3'] = 5\n",
    "    elif (row['level2_diag3'] >= 490 and row['level2_diag3'] < 497):\n",
    "        Main_data.loc[index, 'level2_diag3'] = 6\n",
    "    elif (row['level2_diag3'] >= 500 and row['level2_diag3'] < 520):\n",
    "        Main_data.loc[index, 'level2_diag3'] = 7\n",
    "    elif (np.floor(row['level2_diag3']) == 786):\n",
    "        Main_data.loc[index, 'level2_diag3'] = 8\n",
    "    elif (row['level2_diag3'] >= 520 and row['level2_diag3'] < 530):\n",
    "        Main_data.loc[index, 'level2_diag3'] = 9\n",
    "    elif (row['level2_diag3'] >= 530 and row['level2_diag3'] < 544):\n",
    "        Main_data.loc[index, 'level2_diag3'] = 10\n",
    "    elif (row['level2_diag3'] >= 550 and row['level2_diag3'] < 554):\n",
    "        Main_data.loc[index, 'level2_diag3'] = 11\n",
    "    elif (row['level2_diag3'] >= 555 and row['level2_diag3'] < 580):\n",
    "        Main_data.loc[index, 'level2_diag3'] = 12\n",
    "    elif (np.floor(row['level2_diag3']) == 787):\n",
    "        Main_data.loc[index, 'level2_diag3'] = 13\n",
    "    elif (np.floor(row['level2_diag3']) == 250):\n",
    "        Main_data.loc[index, 'level2_diag3'] = 14\n",
    "    elif (row['level2_diag3'] >= 800 and row['level2_diag3'] < 1000):\n",
    "        Main_data.loc[index, 'level2_diag3'] = 15\n",
    "    elif (row['level2_diag3'] >= 710 and row['level2_diag3'] < 740):\n",
    "        Main_data.loc[index, 'level2_diag3'] = 16\n",
    "    elif (row['level2_diag3'] >= 580 and row['level2_diag3'] < 630):\n",
    "        Main_data.loc[index, 'level2_diag3'] = 17\n",
    "    elif (np.floor(row['level2_diag3']) == 788):\n",
    "        Main_data.loc[index, 'level2_diag3'] = 18\n",
    "    elif (row['level2_diag3'] >= 140 and row['level2_diag3'] < 240):\n",
    "        Main_data.loc[index, 'level2_diag3'] = 19\n",
    "    elif row['level2_diag3'] >= 240 and row['level2_diag3'] < 280 and (np.floor(row['level2_diag3']) != 250):\n",
    "        Main_data.loc[index, 'level2_diag3'] = 20\n",
    "    elif (row['level2_diag3'] >= 680 and row['level2_diag3'] < 710) or (np.floor(row['level2_diag3']) == 782):\n",
    "        Main_data.loc[index, 'level2_diag3'] = 21\n",
    "    elif (row['level2_diag3'] >= 290 and row['level2_diag3'] < 320):\n",
    "        Main_data.loc[index, 'level2_diag3'] = 22\n",
    "    else:\n",
    "        Main_data.loc[index, 'level2_diag3'] = 0"
   ]
  },
  {
   "cell_type": "markdown",
   "metadata": {},
   "source": [
    "#### number of diagnoses preprocessed"
   ]
  },
  {
   "cell_type": "markdown",
   "metadata": {},
   "source": [
    "#### Glucose serum"
   ]
  },
  {
   "cell_type": "code",
   "execution_count": 25,
   "metadata": {},
   "outputs": [],
   "source": [
    "Glucose_dictionary = {'None':10, '>300':1, 'Norm':0, '>200':1}\n",
    "Main_data['max_glu_serum'] = Main_data['max_glu_serum'].apply(lambda x: Glucose_dictionary[x])"
   ]
  },
  {
   "cell_type": "markdown",
   "metadata": {},
   "source": [
    "#### Haempglobin A1c test"
   ]
  },
  {
   "cell_type": "code",
   "execution_count": 26,
   "metadata": {},
   "outputs": [],
   "source": [
    "haemoglobin_dictionary = {'None':10, '>7':1, '>8':1, 'Norm':0}\n",
    "Main_data['A1Cresult'] = Main_data['A1Cresult'].apply(lambda x: haemoglobin_dictionary[x])"
   ]
  },
  {
   "cell_type": "markdown",
   "metadata": {},
   "source": [
    "#### 24 medicine processing"
   ]
  },
  {
   "cell_type": "code",
   "execution_count": 27,
   "metadata": {},
   "outputs": [],
   "source": [
    "allcol = Main_data.columns\n",
    "dose_dictionary  = {'Steady': 0, 'Up': 1, 'Down': 1, 'No' : 0}\n",
    "for i in range(21,44):\n",
    "    Main_data[allcol[i]] = Main_data[allcol[i]].apply(lambda x: dose_dictionary[x])"
   ]
  },
  {
   "cell_type": "markdown",
   "metadata": {},
   "source": [
    "#### medicine changed"
   ]
  },
  {
   "cell_type": "code",
   "execution_count": 28,
   "metadata": {},
   "outputs": [],
   "source": [
    "change_dictionary = {'No':0, 'Ch':1}\n",
    "Main_data['change'] = Main_data['change'].apply(lambda x: change_dictionary[x])"
   ]
  },
  {
   "cell_type": "markdown",
   "metadata": {},
   "source": [
    "#### diabetes medicine"
   ]
  },
  {
   "cell_type": "code",
   "execution_count": 29,
   "metadata": {},
   "outputs": [],
   "source": [
    "diabetesMed_dictionary = {'No':0, 'Yes':1}\n",
    "Main_data['diabetesMed'] = Main_data['diabetesMed'].apply(lambda x: diabetesMed_dictionary[x])"
   ]
  },
  {
   "cell_type": "markdown",
   "metadata": {},
   "source": [
    "#### readmisson"
   ]
  },
  {
   "cell_type": "code",
   "execution_count": 30,
   "metadata": {},
   "outputs": [],
   "source": [
    "readmitted_dictionary = { 'NO':0, '<30':1, '>30':2}\n",
    "Main_data['readmitted'] = Main_data['readmitted'].apply(lambda x: readmitted_dictionary[x])"
   ]
  },
  {
   "cell_type": "code",
   "execution_count": 31,
   "metadata": {
    "collapsed": true
   },
   "outputs": [
    {
     "data": {
      "text/plain": [
       "encounter_id                  int64\n",
       "patient_nbr                   int64\n",
       "race                          int64\n",
       "gender                        int64\n",
       "age                           int64\n",
       "admission_type_id             int64\n",
       "discharge_disposition_id    float64\n",
       "admission_source_id           int64\n",
       "time_in_hospital              int64\n",
       "num_lab_procedures            int64\n",
       "num_procedures                int64\n",
       "num_medications               int64\n",
       "number_outpatient             int64\n",
       "number_emergency              int64\n",
       "number_inpatient              int64\n",
       "diag_1                       object\n",
       "diag_2                       object\n",
       "diag_3                       object\n",
       "number_diagnoses              int64\n",
       "max_glu_serum                 int64\n",
       "A1Cresult                     int64\n",
       "metformin                     int64\n",
       "repaglinide                   int64\n",
       "nateglinide                   int64\n",
       "chlorpropamide                int64\n",
       "glimepiride                   int64\n",
       "acetohexamide                 int64\n",
       "glipizide                     int64\n",
       "glyburide                     int64\n",
       "tolbutamide                   int64\n",
       "pioglitazone                  int64\n",
       "rosiglitazone                 int64\n",
       "acarbose                      int64\n",
       "miglitol                      int64\n",
       "troglitazone                  int64\n",
       "tolazamide                    int64\n",
       "examide                       int64\n",
       "citoglipton                   int64\n",
       "insulin                       int64\n",
       "glyburide-metformin           int64\n",
       "glipizide-metformin           int64\n",
       "glimepiride-pioglitazone      int64\n",
       "metformin-rosiglitazone       int64\n",
       "metformin-pioglitazone        int64\n",
       "change                        int64\n",
       "diabetesMed                   int64\n",
       "readmitted                    int64\n",
       "level1_diag1                float64\n",
       "level2_diag1                float64\n",
       "level1_diag2                float64\n",
       "level2_diag2                float64\n",
       "level1_diag3                float64\n",
       "level2_diag3                float64\n",
       "dtype: object"
      ]
     },
     "execution_count": 31,
     "metadata": {},
     "output_type": "execute_result"
    }
   ],
   "source": [
    "Main_data.dtypes"
   ]
  },
  {
   "cell_type": "markdown",
   "metadata": {},
   "source": [
    "### Save processed file (Main_data panda dataframe)"
   ]
  },
  {
   "cell_type": "code",
   "execution_count": 32,
   "metadata": {},
   "outputs": [],
   "source": [
    "Main_data.to_csv(\"Main_data.csv\")"
   ]
  },
  {
   "cell_type": "markdown",
   "metadata": {},
   "source": [
    "# Data Description"
   ]
  },
  {
   "cell_type": "code",
   "execution_count": 41,
   "metadata": {
    "collapsed": true
   },
   "outputs": [
    {
     "name": "stderr",
     "output_type": "stream",
     "text": [
      "C:\\Users\\Samarth\\AppData\\Local\\Programs\\Python\\Python37-32\\lib\\site-packages\\seaborn\\_decorators.py:43: FutureWarning: Pass the following variable as a keyword arg: x. From version 0.12, the only valid positional argument will be `data`, and passing other arguments without an explicit keyword will result in an error or misinterpretation.\n",
      "  FutureWarning\n"
     ]
    },
    {
     "data": {
      "text/plain": [
       "[Text(0,0,'No readmission'),\n",
       " Text(0,0,'Readmission within 30 days'),\n",
       " Text(0,0,'Readmission after 30 days')]"
      ]
     },
     "execution_count": 41,
     "metadata": {},
     "output_type": "execute_result"
    },
    {
     "data": {
      "image/png": "[encoded data removed]",
      "text/plain": [
       "<Figure size 576x360 with 1 Axes>"
      ]
     },
     "metadata": {
      "needs_background": "light"
     },
     "output_type": "display_data"
    }
   ],
   "source": [
    "fig = plt.figure(figsize=(8,5))\n",
    "ax = sns.countplot(Main_data['readmitted'])\n",
    "ax.set_title('Readmission class distribution')\n",
    "ax.set_xlabel('Readmission')\n",
    "ax.set_ylabel('Count of patients')\n",
    "ax.set_xticklabels(['No readmission','Readmission within 30 days','Readmission after 30 days'])"
   ]
  },
  {
   "cell_type": "code",
   "execution_count": 43,
   "metadata": {
    "collapsed": true
   },
   "outputs": [
    {
     "name": "stderr",
     "output_type": "stream",
     "text": [
      "C:\\Users\\Samarth\\AppData\\Local\\Programs\\Python\\Python37-32\\lib\\site-packages\\seaborn\\_decorators.py:43: FutureWarning: Pass the following variable as a keyword arg: x. From version 0.12, the only valid positional argument will be `data`, and passing other arguments without an explicit keyword will result in an error or misinterpretation.\n",
      "  FutureWarning\n"
     ]
    },
    {
     "data": {
      "text/plain": [
       "Text(0,0.5,'Count of patients')"
      ]
     },
     "execution_count": 43,
     "metadata": {},
     "output_type": "execute_result"
    },
    {
     "data": {
      "image/png": "[encoded data removed]",
      "text/plain": [
       "<Figure size 432x288 with 1 Axes>"
      ]
     },
     "metadata": {
      "needs_background": "light"
     },
     "output_type": "display_data"
    }
   ],
   "source": [
    "ax = sns.countplot(Main_data['age'])\n",
    "ax.set_title('Age class distribution')\n",
    "ax.set_xlabel('Mean age of bin')\n",
    "ax.set_ylabel('Count of patients')"
   ]
  },
  {
   "cell_type": "code",
   "execution_count": 44,
   "metadata": {
    "collapsed": true
   },
   "outputs": [
    {
     "name": "stderr",
     "output_type": "stream",
     "text": [
      "C:\\Users\\Samarth\\AppData\\Local\\Programs\\Python\\Python37-32\\lib\\site-packages\\seaborn\\_decorators.py:43: FutureWarning: Pass the following variable as a keyword arg: x. From version 0.12, the only valid positional argument will be `data`, and passing other arguments without an explicit keyword will result in an error or misinterpretation.\n",
      "  FutureWarning\n"
     ]
    },
    {
     "data": {
      "text/plain": [
       "[Text(0,0.5,'Count of patients'), Text(0.5,0,'Time in Hospital')]"
      ]
     },
     "execution_count": 44,
     "metadata": {},
     "output_type": "execute_result"
    },
    {
     "data": {
      "image/png": "[encoded data removed]",
      "text/plain": [
       "<Figure size 432x288 with 1 Axes>"
      ]
     },
     "metadata": {
      "needs_background": "light"
     },
     "output_type": "display_data"
    }
   ],
   "source": [
    "ax = sns.countplot(Main_data['time_in_hospital'])\n",
    "ax.set_title('Readmission class distribution')\n",
    "ax.set(xlabel='Time in Hospital', ylabel='Count of patients')"
   ]
  },
  {
   "cell_type": "code",
   "execution_count": 75,
   "metadata": {
    "collapsed": true
   },
   "outputs": [
    {
     "data": {
      "text/plain": [
       "Text(0.5,1,'Time in hospital VS Readmission')"
      ]
     },
     "execution_count": 75,
     "metadata": {},
     "output_type": "execute_result"
    },
    {
     "data": {
      "image/png": "[encoded data removed]",
      "text/plain": [
       "<Figure size 504x360 with 1 Axes>"
      ]
     },
     "metadata": {
      "needs_background": "light"
     },
     "output_type": "display_data"
    }
   ],
   "source": [
    "fig = plt.figure(figsize=(7,5))\n",
    "\n",
    "sns.countplot(x = Main_data['time_in_hospital'], \n",
    "              hue = Main_data['readmitted']).set_title('Time in hospital VS Readmission')"
   ]
  },
  {
   "cell_type": "code",
   "execution_count": 50,
   "metadata": {
    "collapsed": true
   },
   "outputs": [
    {
     "data": {
      "text/plain": [
       "Text(0.5,1,'Age of Patient VS. Readmission')"
      ]
     },
     "execution_count": 50,
     "metadata": {},
     "output_type": "execute_result"
    },
    {
     "data": {
      "image/png": "[encoded data removed]",
      "text/plain": [
       "<Figure size 1080x720 with 1 Axes>"
      ]
     },
     "metadata": {
      "needs_background": "light"
     },
     "output_type": "display_data"
    }
   ],
   "source": [
    "fig = plt.figure(figsize=(15,10))\n",
    "\n",
    "sns.countplot(hue = Main_data['age'], \n",
    "              x = Main_data['readmitted']).set_title('Age of Patient VS. Readmission')"
   ]
  },
  {
   "cell_type": "code",
   "execution_count": 59,
   "metadata": {
    "collapsed": true
   },
   "outputs": [
    {
     "data": {
      "text/plain": [
       "[Text(0,0,'Other'),\n",
       " Text(0,0,'Caucasian'),\n",
       " Text(0,0,'African American'),\n",
       " Text(0,0,'Asian'),\n",
       " Text(0,0,'Hipanic')]"
      ]
     },
     "execution_count": 59,
     "metadata": {},
     "output_type": "execute_result"
    },
    {
     "data": {
      "image/png": "[encoded data removed]",
      "text/plain": [
       "<Figure size 1080x720 with 1 Axes>"
      ]
     },
     "metadata": {
      "needs_background": "light"
     },
     "output_type": "display_data"
    }
   ],
   "source": [
    "fig = plt.figure(figsize=(15,10))\n",
    "\n",
    "ax = sns.countplot(x = Main_data['race'], \n",
    "              hue = Main_data['readmitted'])\n",
    "\n",
    "ax.set_title('Race with Readmission')\n",
    "\n",
    "ax.set_xticklabels(['Other','Caucasian','African American','Asian','Hipanic'])"
   ]
  },
  {
   "cell_type": "code",
   "execution_count": 63,
   "metadata": {
    "collapsed": true
   },
   "outputs": [
    {
     "data": {
      "image/png": "[encoded data removed]",
      "text/plain": [
       "<Figure size 1080x720 with 1 Axes>"
      ]
     },
     "metadata": {
      "needs_background": "light"
     },
     "output_type": "display_data"
    }
   ],
   "source": [
    "fig = plt.figure(figsize=(15,10))\n",
    "\n",
    "ax = sns.countplot(hue = Main_data['num_medications'], \n",
    "                   x = Main_data['readmitted'])\n",
    "\n",
    "ax.set_title('Medication with Readmission')\n",
    "ax.get_legend().remove()"
   ]
  },
  {
   "cell_type": "code",
   "execution_count": 66,
   "metadata": {
    "collapsed": true
   },
   "outputs": [
    {
     "data": {
      "text/plain": [
       "[Text(0,0,'Test not taken'),\n",
       " Text(0,0,'Normal level'),\n",
       " Text(0,0,'Abnormal level')]"
      ]
     },
     "execution_count": 66,
     "metadata": {},
     "output_type": "execute_result"
    },
    {
     "data": {
      "image/png": "[encoded data removed]",
      "text/plain": [
       "<Figure size 1080x720 with 1 Axes>"
      ]
     },
     "metadata": {
      "needs_background": "light"
     },
     "output_type": "display_data"
    }
   ],
   "source": [
    "fig = plt.figure(figsize=(15,10))\n",
    "\n",
    "ax = sns.countplot(x = Main_data['max_glu_serum'], \n",
    "                   hue = Main_data['readmitted'])\n",
    "\n",
    "ax.set_title('Glucose level with Readmission')\n",
    "\n",
    "ax.set_xticklabels(['Test not taken','Normal level','Abnormal level'])"
   ]
  },
  {
   "cell_type": "code",
   "execution_count": 60,
   "metadata": {
    "collapsed": true
   },
   "outputs": [
    {
     "data": {
      "text/plain": [
       "Text(0.5,1,'Haemoglobin glucose test with Readmission')"
      ]
     },
     "execution_count": 60,
     "metadata": {},
     "output_type": "execute_result"
    },
    {
     "data": {
      "image/png": "[encoded data removed]",
      "text/plain": [
       "<Figure size 1080x720 with 1 Axes>"
      ]
     },
     "metadata": {
      "needs_background": "light"
     },
     "output_type": "display_data"
    }
   ],
   "source": [
    "fig = plt.figure(figsize=(15,10))\n",
    "\n",
    "ax = sns.countplot(x = Main_data['A1Cresult'], \n",
    "                   hue = Main_data['readmitted'])\n",
    "\n",
    "ax.set_title('Haemoglobin glucose test with Readmission')\n",
    "\n",
    "# ax.set_xticklabels(['Test not taken','Normal level','Abnormal level'])"
   ]
  },
  {
   "cell_type": "code",
   "execution_count": 58,
   "metadata": {
    "collapsed": true
   },
   "outputs": [
    {
     "data": {
      "text/plain": [
       "Text(0.5,1,'Correlation heatmap')"
      ]
     },
     "execution_count": 58,
     "metadata": {},
     "output_type": "execute_result"
    },
    {
     "data": {
      "image/png": "[encoded data removed]",
      "text/plain": [
       "<Figure size 504x360 with 2 Axes>"
      ]
     },
     "metadata": {
      "needs_background": "light"
     },
     "output_type": "display_data"
    }
   ],
   "source": [
    "fig = plt.figure(figsize=(7,5))\n",
    "\n",
    "ax = sns.heatmap(df.drop(columns=['max_glu_serum']).corr())\n",
    "ax.set_title('Correlation heatmap')"
   ]
  },
  {
   "cell_type": "code",
   "execution_count": 2,
   "metadata": {},
   "outputs": [],
   "source": [
    "Main_data = pd.read_csv(\"Main_data.csv\", sep=\",\")\n",
    "Main_data = Main_data.drop(['Unnamed: 0'], axis=1)"
   ]
  },
  {
   "cell_type": "markdown",
   "metadata": {},
   "source": [
    "# Feature engineering "
   ]
  },
  {
   "cell_type": "code",
   "execution_count": 3,
   "metadata": {},
   "outputs": [],
   "source": [
    "Main_data['service_taken'] = Main_data['number_outpatient'] + Main_data['number_inpatient'] + Main_data['number_emergency']"
   ]
  },
  {
   "cell_type": "code",
   "execution_count": 4,
   "metadata": {},
   "outputs": [
    {
     "data": {
      "text/plain": [
       "0    70142\n",
       "1    24922\n",
       "2     1271\n",
       "3      106\n",
       "4        5\n",
       "Name: medication_used, dtype: int64"
      ]
     },
     "execution_count": 4,
     "metadata": {},
     "output_type": "execute_result"
    }
   ],
   "source": [
    "#For this Up and down is taken as 1 and other as 0\n",
    "Main_data['medication_used']=0\n",
    "for name in Main_data.columns[21:44]:\n",
    "    Main_data['medication_used'] = Main_data['medication_used'] + Main_data[name]\n",
    "    \n",
    "Main_data['medication_used'].value_counts()"
   ]
  },
  {
   "cell_type": "code",
   "execution_count": 5,
   "metadata": {},
   "outputs": [],
   "source": [
    "log_transform = ['service_taken', 'number_outpatient', 'number_inpatient', 'number_emergency']\n",
    "\n",
    "for col in log_transform:\n",
    "    Main_data[col+'_log1p'] = np.log1p(Main_data[col])"
   ]
  },
  {
   "cell_type": "code",
   "execution_count": 6,
   "metadata": {},
   "outputs": [],
   "source": [
    "interactionterms = [('num_medications','time_in_hospital'),\n",
    "('num_medications','num_procedures'),\n",
    "('time_in_hospital','num_lab_procedures'),\n",
    "('num_medications','num_lab_procedures'),\n",
    "('num_medications','number_diagnoses'),\n",
    "('age','number_diagnoses'),\n",
    "('change','num_medications'),\n",
    "('number_diagnoses','time_in_hospital'),\n",
    "('num_medications','medication_used')]\n",
    "\n",
    "for inter in interactionterms:\n",
    "    name = inter[0] + '|' + inter[1]\n",
    "    Main_data[name] = Main_data[inter[0]] * Main_data[inter[1]]"
   ]
  },
  {
   "cell_type": "code",
   "execution_count": 7,
   "metadata": {},
   "outputs": [],
   "source": [
    "#not feature engineer\n",
    "age_dict = {5:1, 15:2, 25:3, 35:4, 45:5, 55:6, 65:7, 75:8, 85:9, 95:10, 105:11}\n",
    "Main_data['age'] = Main_data['age'].apply(lambda x: age_dict[x])\n",
    "\n",
    "Main_data['readmitted'] = Main_data['readmitted'].replace(2,0)"
   ]
  },
  {
   "cell_type": "code",
   "execution_count": 8,
   "metadata": {
    "scrolled": true
   },
   "outputs": [
    {
     "data": {
      "text/plain": [
       "(96446, 68)"
      ]
     },
     "execution_count": 8,
     "metadata": {},
     "output_type": "execute_result"
    }
   ],
   "source": [
    "Main_data.shape"
   ]
  },
  {
   "cell_type": "markdown",
   "metadata": {},
   "source": [
    "## Outlier removal"
   ]
  },
  {
   "cell_type": "code",
   "execution_count": 9,
   "metadata": {},
   "outputs": [],
   "source": [
    "df2 = Main_data.drop_duplicates(subset= ['patient_nbr'], keep = 'first')"
   ]
  },
  {
   "cell_type": "code",
   "execution_count": 10,
   "metadata": {
    "collapsed": true
   },
   "outputs": [
    {
     "name": "stderr",
     "output_type": "stream",
     "text": [
      "C:\\Users\\Samarth\\AppData\\Local\\Programs\\Python\\Python37-32\\lib\\site-packages\\pandas\\core\\frame.py:3140: SettingWithCopyWarning: \n",
      "A value is trying to be set on a copy of a slice from a DataFrame.\n",
      "Try using .loc[row_indexer,col_indexer] = value instead\n",
      "\n",
      "See the caveats in the documentation: http://pandas.pydata.org/pandas-docs/stable/indexing.html#indexing-view-versus-copy\n",
      "  self[k1] = value[k2]\n"
     ]
    }
   ],
   "source": [
    "def standardize(raw_data):\n",
    "    return ((raw_data - np.mean(raw_data, axis = 0)) / np.std(raw_data, axis = 0))\n",
    "\n",
    "numerics = ['num_procedures',\n",
    " 'num_medications',\n",
    " 'time_in_hospital',\n",
    " 'service_taken_log1p',\n",
    " 'number_inpatient_log1p',\n",
    " 'num_lab_procedures',\n",
    " 'number_diagnoses',\n",
    " 'number_emergency_log1p',\n",
    " 'medication_used',\n",
    " 'number_outpatient_log1p']\n",
    "\n",
    "df2[numerics] = standardize(df2[numerics])\n",
    "import scipy as sp\n",
    "df2 = df2[(np.abs(sp.stats.zscore(df2[numerics])) < 3).all(axis=1)]"
   ]
  },
  {
   "cell_type": "code",
   "execution_count": 11,
   "metadata": {},
   "outputs": [],
   "source": [
    "df2['level1_diag1'] = df2['level1_diag1'].astype('object')\n",
    "df_pd = pd.get_dummies(df2, columns=['gender', 'admission_type_id', 'discharge_disposition_id',\n",
    "                                      'admission_source_id', 'max_glu_serum', 'A1Cresult', 'level1_diag1'], drop_first = False)\n",
    "just_dummies = pd.get_dummies(df_pd['race'])\n",
    "df_pd = pd.concat([df_pd, just_dummies], axis=1)      \n",
    "df_pd.drop(['race'], inplace=True, axis=1)"
   ]
  },
  {
   "cell_type": "markdown",
   "metadata": {},
   "source": [
    "### Save processed file (Main_data panda dataframe)"
   ]
  },
  {
   "cell_type": "code",
   "execution_count": 12,
   "metadata": {},
   "outputs": [],
   "source": [
    "df_pd.to_csv(\"Main_data.csv\")"
   ]
  },
  {
   "cell_type": "markdown",
   "metadata": {},
   "source": [
    "# Load Saved file   (To head start)"
   ]
  },
  {
   "cell_type": "code",
   "execution_count": 2,
   "metadata": {},
   "outputs": [],
   "source": [
    "df_pd = pd.read_csv(\"Main_data.csv\", sep=\",\")\n",
    "df_pd = df_pd.drop(['Unnamed: 0'], axis=1)"
   ]
  },
  {
   "cell_type": "markdown",
   "metadata": {},
   "source": [
    "# Selected features"
   ]
  },
  {
   "cell_type": "code",
   "execution_count": 3,
   "metadata": {},
   "outputs": [],
   "source": [
    "feature_set = ['age', 'time_in_hospital', 'num_procedures', 'num_medications',  \n",
    "            'number_outpatient_log1p', 'number_emergency_log1p', 'number_inpatient_log1p','number_diagnoses',\n",
    "            'metformin', 'repaglinide', 'nateglinide', 'chlorpropamide', 'glimepiride', 'glipizide', 'glyburide',\n",
    "            'pioglitazone', 'rosiglitazone', 'acarbose', 'tolazamide', 'insulin', 'glyburide-metformin',\n",
    "            '0','1','2','3','4', 'gender_1', \n",
    "            'admission_type_id_2','admission_type_id_3', \n",
    "            'discharge_disposition_id_2.0','discharge_disposition_id_3.0', 'discharge_disposition_id_4.0','discharge_disposition_id_6.0',\n",
    "            'admission_source_id_2', 'admission_source_id_4', 'admission_source_id_5',\n",
    "            'max_glu_serum_0', 'max_glu_serum_1', \n",
    "            'A1Cresult_0', 'A1Cresult_1', \n",
    "            'level1_diag1_1.0', 'level1_diag1_2.0', 'level1_diag1_3.0', 'level1_diag1_4.0',\n",
    "            'level1_diag1_5.0','level1_diag1_6.0', 'level1_diag1_7.0', 'level1_diag1_8.0']"
   ]
  },
  {
   "cell_type": "code",
   "execution_count": 4,
   "metadata": {},
   "outputs": [
    {
     "data": {
      "text/plain": [
       "Index(['encounter_id', 'patient_nbr', 'age', 'time_in_hospital',\n",
       "       'num_lab_procedures', 'num_procedures', 'num_medications',\n",
       "       'number_outpatient', 'number_emergency', 'number_inpatient',\n",
       "       ...\n",
       "       'level1_diag1_4.0', 'level1_diag1_5.0', 'level1_diag1_6.0',\n",
       "       'level1_diag1_7.0', 'level1_diag1_8.0', '0', '1', '2', '3', '4'],\n",
       "      dtype='object', length=101)"
      ]
     },
     "execution_count": 4,
     "metadata": {},
     "output_type": "execute_result"
    }
   ],
   "source": [
    "df_pd.columns"
   ]
  },
  {
   "cell_type": "markdown",
   "metadata": {},
   "source": [
    "## Divide by age"
   ]
  },
  {
   "cell_type": "code",
   "execution_count": 5,
   "metadata": {},
   "outputs": [],
   "source": [
    "Agedf1 = df_pd[df_pd['age'] < 4]\n",
    "Agedf2 = df_pd.loc[(df_pd['age'] > 3) & (df_pd['age'] < 8)]\n",
    "Agedf3 = df_pd[df_pd['age'] > 7]\n",
    "\n",
    "X_1 = Agedf1[feature_set]\n",
    "Y_1 = Agedf1['readmitted']\n",
    "\n",
    "X_2 = Agedf2[feature_set]\n",
    "Y_2 = Agedf2['readmitted']\n",
    "\n",
    "X_3 = Agedf3[feature_set]\n",
    "Y_3 = Agedf3['readmitted']"
   ]
  },
  {
   "cell_type": "markdown",
   "metadata": {},
   "source": [
    "# Class imbalance"
   ]
  },
  {
   "cell_type": "code",
   "execution_count": 6,
   "metadata": {},
   "outputs": [],
   "source": [
    "def apply_SMOTE(X, Y):\n",
    "    sm = SMOTE(sampling_strategy='auto',\n",
    "            random_state=None,\n",
    "            k_neighbors=5,\n",
    "            n_jobs=None) \n",
    "    SMOTE_X, SMOTE_Y = sm.fit_sample(X, Y.ravel()) \n",
    "    X_train, X_test, y_train, y_test = train_test_split(SMOTE_X, SMOTE_Y, test_size=0.20, random_state=0)\n",
    "    return X_train, X_test, y_train, y_test"
   ]
  },
  {
   "cell_type": "markdown",
   "metadata": {},
   "source": [
    "# Model Comparison "
   ]
  },
  {
   "cell_type": "code",
   "execution_count": 7,
   "metadata": {},
   "outputs": [],
   "source": [
    "def compare_models(X_train_res, y_train_res, X_test, y_test, verbose=False, model_include=None):\n",
    "\n",
    "    \n",
    "    if model_include==None:\n",
    "        models =[\n",
    "                ('LogReg', LogisticRegression(C= 10, multi_class='ovr', penalty='l2', solver='saga')), \n",
    "                ('GNB', GaussianNB()),\n",
    "                ('Tree', DecisionTreeClassifier(criterion='entropy', max_features='auto')),\n",
    "                ('RF', RandomForestClassifier(criterion='entropy', max_features='log2', n_estimators=50)),\n",
    "                ('XGB', XGBClassifier(eta = 0.3, objective = 'binary:logistic',eval_metric = 'auc', seed = 7,reg_alpha = 1)),\n",
    "                ('SVC', SVC(C=1000, gamma='scale', kernel='rbf', max_iter=-1)), \n",
    "                ('KNN', KNeighborsClassifier(algorithm='auto', leaf_size=10, weights='distance'))                \n",
    "                ]\n",
    "    else:\n",
    "        models = []\n",
    "        for mod in model_include:\n",
    "            models.append((mod, models_dict[mod]))\n",
    "\n",
    "    results = []\n",
    "    names = []\n",
    "    dfs = []\n",
    "    scoring = {'accuracy': 'accuracy', \n",
    "            'precision_weighted':'precision_weighted', \n",
    "            'recall_weighted':'recall_weighted', \n",
    "            'f1_weighted':'f1_weighted', \n",
    "            'roc_auc':'roc_auc', \n",
    "            'matthews_corrcoef': make_scorer(matthews_corrcoef)}\n",
    "\n",
    "\n",
    "    for name, model in models:\n",
    "            \n",
    "\n",
    "            #k fold cross validation\n",
    "            kfold = model_selection.KFold(n_splits=5, \n",
    "                                        shuffle=True, \n",
    "                                        random_state=100)\n",
    "\n",
    "\n",
    "            cv_results = model_selection.cross_validate(model, \n",
    "                                                        X_train_res, y_train_res, \n",
    "                                                        cv=kfold, \n",
    "                                                        scoring=scoring)\n",
    "            results.append(cv_results)\n",
    "            names.append(name)\n",
    "\n",
    "            #data fitting on model\n",
    "            clf = model.fit(X_train_res, y_train_res)\n",
    "\n",
    "            #make predictions and confusion matrix\n",
    "            y_pred = clf.predict(X_test)\n",
    "\n",
    "            if verbose:\n",
    "                print(name)\n",
    "                print(classification_report(y_test, y_pred))\n",
    "                print(confusion_matrix(y_test, y_pred))\n",
    "                print(matthews_corrcoef(y_test, y_pred))\n",
    "                print()\n",
    "\n",
    "\n",
    "            this_df = pd.DataFrame(cv_results)\n",
    "            this_df['model'] = name\n",
    "            dfs.append(this_df)\n",
    "\n",
    "    final_df = pd.concat(dfs, ignore_index=True)\n",
    "    \n",
    "    return final_df"
   ]
  },
  {
   "cell_type": "code",
   "execution_count": 8,
   "metadata": {},
   "outputs": [],
   "source": [
    "def graphs_matrice(mat_list, final_df):\n",
    "    grouping = final_df.groupby(by='model', axis=0, as_index=True, sort=False)\n",
    "\n",
    "    matrices = ['fit_time', 'score_time', 'test_accuracy', 'test_precision_weighted',\n",
    "            'test_recall_weighted', 'test_f1_weighted', 'test_roc_auc',\n",
    "            'test_matthews_corrcoef', 'model']\n",
    "    \n",
    "    matrices_to_be = [matrices[i] for i in mat_list]\n",
    "    \n",
    "    sns.set(font_scale=1)\n",
    "    \n",
    "    for mat in matrices_to_be:\n",
    "        ax = sns.boxplot(x=\"model\", y=mat, hue=\"model\", data=final_df, palette=\"Set3\")\n",
    "        ax.get_legend().remove()\n",
    "        plt.show()"
   ]
  },
  {
   "cell_type": "code",
   "execution_count": 62,
   "metadata": {
    "collapsed": true
   },
   "outputs": [
    {
     "data": {
      "text/plain": [
       "Text(0.5,1,'Comparison of Model by Classification Metric   (Age group (70-100))')"
      ]
     },
     "execution_count": 62,
     "metadata": {},
     "output_type": "execute_result"
    },
    {
     "data": {
      "image/png": "[encoded data removed]",
      "text/plain": [
       "<Figure size 504x360 with 1 Axes>"
      ]
     },
     "metadata": {},
     "output_type": "display_data"
    }
   ],
   "source": [
    "final_df = final_df3\n",
    "bootstraps = []\n",
    "for model in list(set(final_df.model.values)):\n",
    "    model_df = final_df.loc[final_df.model == model]\n",
    "    bootstrap = model_df.sample(n=30, replace=True)\n",
    "    bootstraps.append(bootstrap)\n",
    "        \n",
    "bootstrap_df = pd.concat(bootstraps, ignore_index=True)\n",
    "results_long = pd.melt(bootstrap_df,id_vars=['model'],var_name='metrics', value_name='values')\n",
    "time_metrics = ['fit_time','score_time'] \n",
    "\n",
    "## PERFORMANCE METRICS\n",
    "results_long_nofit = results_long.loc[~results_long['metrics'].isin(time_metrics)] # get df without fit data\n",
    "results_long_nofit = results_long_nofit.sort_values(by='values')\n",
    "\n",
    "## TIME METRICS\n",
    "results_long_fit = results_long.loc[results_long['metrics'].isin(time_metrics)] # df with fit data\n",
    "results_long_fit = results_long_fit.sort_values(by='values')\n",
    "\n",
    "results_long_nofit = results_long_nofit[results_long_nofit['metrics'].isin(['test_accuracy','test_matthews_corrcoef','test_roc_auc'])]\n",
    "\n",
    "plt.figure(figsize=(7, 5))\n",
    "sns.set(font_scale=1)\n",
    "g = sns.boxplot(x=\"model\", y=\"values\", hue=\"metrics\", data=results_long_nofit, palette=\"Set3\",order=['LogReg','GNB','Tree','RF','XGB','NN','SVC','KNN'])\n",
    "plt.legend(bbox_to_anchor=(1.05, 1), loc=2, borderaxespad=0.)\n",
    "plt.title('Comparison of Model by Classification Metric   (Age group (70-100))')"
   ]
  },
  {
   "cell_type": "markdown",
   "metadata": {},
   "source": [
    "## 0-30"
   ]
  },
  {
   "cell_type": "code",
   "execution_count": 45,
   "metadata": {
    "collapsed": true
   },
   "outputs": [
    {
     "name": "stderr",
     "output_type": "stream",
     "text": [
      "C:\\Users\\Samarth\\AppData\\Local\\Programs\\Python\\Python37-32\\lib\\site-packages\\sklearn\\linear_model\\_sag.py:330: ConvergenceWarning: The max_iter was reached which means the coef_ did not converge\n",
      "  \"the coef_ did not converge\", ConvergenceWarning)\n",
      "C:\\Users\\Samarth\\AppData\\Local\\Programs\\Python\\Python37-32\\lib\\site-packages\\sklearn\\linear_model\\_sag.py:330: ConvergenceWarning: The max_iter was reached which means the coef_ did not converge\n",
      "  \"the coef_ did not converge\", ConvergenceWarning)\n",
      "C:\\Users\\Samarth\\AppData\\Local\\Programs\\Python\\Python37-32\\lib\\site-packages\\sklearn\\linear_model\\_sag.py:330: ConvergenceWarning: The max_iter was reached which means the coef_ did not converge\n",
      "  \"the coef_ did not converge\", ConvergenceWarning)\n",
      "C:\\Users\\Samarth\\AppData\\Local\\Programs\\Python\\Python37-32\\lib\\site-packages\\sklearn\\linear_model\\_sag.py:330: ConvergenceWarning: The max_iter was reached which means the coef_ did not converge\n",
      "  \"the coef_ did not converge\", ConvergenceWarning)\n",
      "C:\\Users\\Samarth\\AppData\\Local\\Programs\\Python\\Python37-32\\lib\\site-packages\\sklearn\\linear_model\\_sag.py:330: ConvergenceWarning: The max_iter was reached which means the coef_ did not converge\n",
      "  \"the coef_ did not converge\", ConvergenceWarning)\n",
      "C:\\Users\\Samarth\\AppData\\Local\\Programs\\Python\\Python37-32\\lib\\site-packages\\sklearn\\linear_model\\_sag.py:330: ConvergenceWarning: The max_iter was reached which means the coef_ did not converge\n",
      "  \"the coef_ did not converge\", ConvergenceWarning)\n"
     ]
    },
    {
     "name": "stdout",
     "output_type": "stream",
     "text": [
      "LogReg\n",
      "              precision    recall  f1-score   support\n",
      "\n",
      "           0       0.86      0.75      0.80       240\n",
      "           1       0.77      0.87      0.82       232\n",
      "\n",
      "    accuracy                           0.81       472\n",
      "   macro avg       0.81      0.81      0.81       472\n",
      "weighted avg       0.81      0.81      0.81       472\n",
      "\n",
      "[[180  60]\n",
      " [ 30 202]]\n",
      "0.6244013415344685\n",
      "\n",
      "GNB\n",
      "              precision    recall  f1-score   support\n",
      "\n",
      "           0       0.94      0.37      0.53       240\n",
      "           1       0.60      0.97      0.74       232\n",
      "\n",
      "    accuracy                           0.67       472\n",
      "   macro avg       0.77      0.67      0.64       472\n",
      "weighted avg       0.77      0.67      0.63       472\n",
      "\n",
      "[[ 89 151]\n",
      " [  6 226]]\n",
      "0.43013031884557956\n",
      "\n",
      "Tree\n",
      "              precision    recall  f1-score   support\n",
      "\n",
      "           0       0.93      0.89      0.91       240\n",
      "           1       0.89      0.94      0.91       232\n",
      "\n",
      "    accuracy                           0.91       472\n",
      "   macro avg       0.91      0.91      0.91       472\n",
      "weighted avg       0.91      0.91      0.91       472\n",
      "\n",
      "[[213  27]\n",
      " [ 15 217]]\n",
      "0.8231997315611246\n",
      "\n",
      "RF\n",
      "              precision    recall  f1-score   support\n",
      "\n",
      "           0       0.96      0.95      0.95       240\n",
      "           1       0.94      0.96      0.95       232\n",
      "\n",
      "    accuracy                           0.95       472\n",
      "   macro avg       0.95      0.95      0.95       472\n",
      "weighted avg       0.95      0.95      0.95       472\n",
      "\n",
      "[[227  13]\n",
      " [ 10 222]]\n",
      "0.9026083134610601\n",
      "\n",
      "XGB\n",
      "              precision    recall  f1-score   support\n",
      "\n",
      "           0       0.95      0.95      0.95       240\n",
      "           1       0.94      0.95      0.95       232\n",
      "\n",
      "    accuracy                           0.95       472\n",
      "   macro avg       0.95      0.95      0.95       472\n",
      "weighted avg       0.95      0.95      0.95       472\n",
      "\n",
      "[[227  13]\n",
      " [ 11 221]]\n",
      "0.8983227434251835\n",
      "\n",
      "SVC\n",
      "              precision    recall  f1-score   support\n",
      "\n",
      "           0       0.94      0.90      0.92       240\n",
      "           1       0.90      0.94      0.92       232\n",
      "\n",
      "    accuracy                           0.92       472\n",
      "   macro avg       0.92      0.92      0.92       472\n",
      "weighted avg       0.92      0.92      0.92       472\n",
      "\n",
      "[[217  23]\n",
      " [ 15 217]]\n",
      "0.8395114942528735\n",
      "\n",
      "KNN\n",
      "              precision    recall  f1-score   support\n",
      "\n",
      "           0       0.96      0.67      0.79       240\n",
      "           1       0.74      0.97      0.84       232\n",
      "\n",
      "    accuracy                           0.82       472\n",
      "   macro avg       0.85      0.82      0.82       472\n",
      "weighted avg       0.85      0.82      0.82       472\n",
      "\n",
      "[[161  79]\n",
      " [  6 226]]\n",
      "0.6743445064063679\n",
      "\n"
     ]
    },
    {
     "data": {
      "image/png": "[encoded data removed]",
      "text/plain": [
       "<Figure size 432x288 with 1 Axes>"
      ]
     },
     "metadata": {},
     "output_type": "display_data"
    },
    {
     "data": {
      "image/png": "[encoded data removed]",
      "text/plain": [
       "<Figure size 432x288 with 1 Axes>"
      ]
     },
     "metadata": {},
     "output_type": "display_data"
    },
    {
     "data": {
      "image/png": "[encoded data removed]",
      "text/plain": [
       "<Figure size 432x288 with 1 Axes>"
      ]
     },
     "metadata": {},
     "output_type": "display_data"
    },
    {
     "data": {
      "image/png": "[encoded data removed]",
      "text/plain": [
       "<Figure size 432x288 with 1 Axes>"
      ]
     },
     "metadata": {},
     "output_type": "display_data"
    }
   ],
   "source": [
    "# for 0-30\n",
    "X_train, X_test, y_train, y_test = apply_SMOTE(X_1, Y_1)\n",
    "final_df1 = compare_models(X_train, y_train, X_test, y_test, True)\n",
    "graphs_matrice([2,3,6,7], final_df1)"
   ]
  },
  {
   "cell_type": "markdown",
   "metadata": {},
   "source": [
    "## 30-70"
   ]
  },
  {
   "cell_type": "code",
   "execution_count": 52,
   "metadata": {
    "collapsed": true
   },
   "outputs": [
    {
     "name": "stderr",
     "output_type": "stream",
     "text": [
      "C:\\Users\\Samarth\\AppData\\Local\\Programs\\Python\\Python37-32\\lib\\site-packages\\sklearn\\linear_model\\_sag.py:330: ConvergenceWarning: The max_iter was reached which means the coef_ did not converge\n",
      "  \"the coef_ did not converge\", ConvergenceWarning)\n",
      "C:\\Users\\Samarth\\AppData\\Local\\Programs\\Python\\Python37-32\\lib\\site-packages\\sklearn\\linear_model\\_sag.py:330: ConvergenceWarning: The max_iter was reached which means the coef_ did not converge\n",
      "  \"the coef_ did not converge\", ConvergenceWarning)\n",
      "C:\\Users\\Samarth\\AppData\\Local\\Programs\\Python\\Python37-32\\lib\\site-packages\\sklearn\\linear_model\\_sag.py:330: ConvergenceWarning: The max_iter was reached which means the coef_ did not converge\n",
      "  \"the coef_ did not converge\", ConvergenceWarning)\n",
      "C:\\Users\\Samarth\\AppData\\Local\\Programs\\Python\\Python37-32\\lib\\site-packages\\sklearn\\linear_model\\_sag.py:330: ConvergenceWarning: The max_iter was reached which means the coef_ did not converge\n",
      "  \"the coef_ did not converge\", ConvergenceWarning)\n",
      "C:\\Users\\Samarth\\AppData\\Local\\Programs\\Python\\Python37-32\\lib\\site-packages\\sklearn\\linear_model\\_sag.py:330: ConvergenceWarning: The max_iter was reached which means the coef_ did not converge\n",
      "  \"the coef_ did not converge\", ConvergenceWarning)\n",
      "C:\\Users\\Samarth\\AppData\\Local\\Programs\\Python\\Python37-32\\lib\\site-packages\\sklearn\\linear_model\\_sag.py:330: ConvergenceWarning: The max_iter was reached which means the coef_ did not converge\n",
      "  \"the coef_ did not converge\", ConvergenceWarning)\n"
     ]
    },
    {
     "name": "stdout",
     "output_type": "stream",
     "text": [
      "LogReg\n",
      "              precision    recall  f1-score   support\n",
      "\n",
      "           0       0.73      0.73      0.73      5939\n",
      "           1       0.73      0.72      0.72      5880\n",
      "\n",
      "    accuracy                           0.73     11819\n",
      "   macro avg       0.73      0.73      0.73     11819\n",
      "weighted avg       0.73      0.73      0.73     11819\n",
      "\n",
      "[[4332 1607]\n",
      " [1636 4244]]\n",
      "0.45120092089571273\n",
      "\n",
      "GNB\n",
      "              precision    recall  f1-score   support\n",
      "\n",
      "           0       0.82      0.14      0.24      5939\n",
      "           1       0.53      0.97      0.68      5880\n",
      "\n",
      "    accuracy                           0.55     11819\n",
      "   macro avg       0.67      0.55      0.46     11819\n",
      "weighted avg       0.67      0.55      0.46     11819\n",
      "\n",
      "[[ 821 5118]\n",
      " [ 181 5699]]\n",
      "0.192881480120634\n",
      "\n",
      "Tree\n",
      "              precision    recall  f1-score   support\n",
      "\n",
      "           0       0.90      0.87      0.88      5939\n",
      "           1       0.87      0.90      0.89      5880\n",
      "\n",
      "    accuracy                           0.89     11819\n",
      "   macro avg       0.89      0.89      0.88     11819\n",
      "weighted avg       0.89      0.89      0.88     11819\n",
      "\n",
      "[[5155  784]\n",
      " [ 575 5305]]\n",
      "0.7705480793148778\n",
      "\n",
      "RF\n",
      "              precision    recall  f1-score   support\n",
      "\n",
      "           0       0.94      0.97      0.95      5939\n",
      "           1       0.96      0.93      0.95      5880\n",
      "\n",
      "    accuracy                           0.95     11819\n",
      "   macro avg       0.95      0.95      0.95     11819\n",
      "weighted avg       0.95      0.95      0.95     11819\n",
      "\n",
      "[[5737  202]\n",
      " [ 391 5489]]\n",
      "0.9000952058626\n",
      "\n",
      "XGB\n",
      "              precision    recall  f1-score   support\n",
      "\n",
      "           0       0.92      1.00      0.96      5939\n",
      "           1       1.00      0.92      0.95      5880\n",
      "\n",
      "    accuracy                           0.96     11819\n",
      "   macro avg       0.96      0.96      0.96     11819\n",
      "weighted avg       0.96      0.96      0.96     11819\n",
      "\n",
      "[[5926   13]\n",
      " [ 496 5384]]\n",
      "0.9169005534288522\n",
      "\n",
      "KNN\n",
      "              precision    recall  f1-score   support\n",
      "\n",
      "           0       0.97      0.64      0.77      5939\n",
      "           1       0.73      0.98      0.84      5880\n",
      "\n",
      "    accuracy                           0.81     11819\n",
      "   macro avg       0.85      0.81      0.80     11819\n",
      "weighted avg       0.85      0.81      0.80     11819\n",
      "\n",
      "[[3805 2134]\n",
      " [ 129 5751]]\n",
      "0.6565027149162934\n",
      "\n"
     ]
    },
    {
     "data": {
      "image/png": "[encoded data removed]",
      "text/plain": [
       "<Figure size 432x288 with 1 Axes>"
      ]
     },
     "metadata": {},
     "output_type": "display_data"
    },
    {
     "data": {
      "image/png": "[encoded data removed]",
      "text/plain": [
       "<Figure size 432x288 with 1 Axes>"
      ]
     },
     "metadata": {},
     "output_type": "display_data"
    },
    {
     "data": {
      "image/png": "[encoded data removed]",
      "text/plain": [
       "<Figure size 432x288 with 1 Axes>"
      ]
     },
     "metadata": {},
     "output_type": "display_data"
    },
    {
     "data": {
      "image/png": "[encoded data removed]",
      "text/plain": [
       "<Figure size 432x288 with 1 Axes>"
      ]
     },
     "metadata": {},
     "output_type": "display_data"
    }
   ],
   "source": [
    "# for 30-70\n",
    "X_train, X_test, y_train, y_test = apply_SMOTE(X_2, Y_2)\n",
    "final_df2 = compare_models(X_train, y_train, X_test, y_test, True)\n",
    "graphs_matrice([2,3,6,7], final_df2)"
   ]
  },
  {
   "cell_type": "markdown",
   "metadata": {},
   "source": [
    "## 70-100"
   ]
  },
  {
   "cell_type": "code",
   "execution_count": 58,
   "metadata": {
    "collapsed": true
   },
   "outputs": [
    {
     "name": "stderr",
     "output_type": "stream",
     "text": [
      "C:\\Users\\Samarth\\AppData\\Local\\Programs\\Python\\Python37-32\\lib\\site-packages\\sklearn\\linear_model\\_sag.py:330: ConvergenceWarning: The max_iter was reached which means the coef_ did not converge\n",
      "  \"the coef_ did not converge\", ConvergenceWarning)\n",
      "C:\\Users\\Samarth\\AppData\\Local\\Programs\\Python\\Python37-32\\lib\\site-packages\\sklearn\\linear_model\\_sag.py:330: ConvergenceWarning: The max_iter was reached which means the coef_ did not converge\n",
      "  \"the coef_ did not converge\", ConvergenceWarning)\n",
      "C:\\Users\\Samarth\\AppData\\Local\\Programs\\Python\\Python37-32\\lib\\site-packages\\sklearn\\linear_model\\_sag.py:330: ConvergenceWarning: The max_iter was reached which means the coef_ did not converge\n",
      "  \"the coef_ did not converge\", ConvergenceWarning)\n",
      "C:\\Users\\Samarth\\AppData\\Local\\Programs\\Python\\Python37-32\\lib\\site-packages\\sklearn\\linear_model\\_sag.py:330: ConvergenceWarning: The max_iter was reached which means the coef_ did not converge\n",
      "  \"the coef_ did not converge\", ConvergenceWarning)\n",
      "C:\\Users\\Samarth\\AppData\\Local\\Programs\\Python\\Python37-32\\lib\\site-packages\\sklearn\\linear_model\\_sag.py:330: ConvergenceWarning: The max_iter was reached which means the coef_ did not converge\n",
      "  \"the coef_ did not converge\", ConvergenceWarning)\n",
      "C:\\Users\\Samarth\\AppData\\Local\\Programs\\Python\\Python37-32\\lib\\site-packages\\sklearn\\linear_model\\_sag.py:330: ConvergenceWarning: The max_iter was reached which means the coef_ did not converge\n",
      "  \"the coef_ did not converge\", ConvergenceWarning)\n"
     ]
    },
    {
     "name": "stdout",
     "output_type": "stream",
     "text": [
      "LogReg\n",
      "              precision    recall  f1-score   support\n",
      "\n",
      "           0       0.69      0.71      0.70      4758\n",
      "           1       0.71      0.69      0.70      4806\n",
      "\n",
      "    accuracy                           0.70      9564\n",
      "   macro avg       0.70      0.70      0.70      9564\n",
      "weighted avg       0.70      0.70      0.70      9564\n",
      "\n",
      "[[3384 1374]\n",
      " [1503 3303]]\n",
      "0.3985801961929653\n",
      "\n",
      "GNB\n",
      "              precision    recall  f1-score   support\n",
      "\n",
      "           0       0.81      0.15      0.26      4758\n",
      "           1       0.53      0.96      0.69      4806\n",
      "\n",
      "    accuracy                           0.56      9564\n",
      "   macro avg       0.67      0.56      0.47      9564\n",
      "weighted avg       0.67      0.56      0.47      9564\n",
      "\n",
      "[[ 733 4025]\n",
      " [ 176 4630]]\n",
      "0.2002109320995982\n",
      "\n",
      "Tree\n",
      "              precision    recall  f1-score   support\n",
      "\n",
      "           0       0.85      0.84      0.85      4758\n",
      "           1       0.84      0.85      0.85      4806\n",
      "\n",
      "    accuracy                           0.85      9564\n",
      "   macro avg       0.85      0.85      0.85      9564\n",
      "weighted avg       0.85      0.85      0.85      9564\n",
      "\n",
      "[[3996  762]\n",
      " [ 703 4103]]\n",
      "0.6936689459900888\n",
      "\n",
      "RF\n",
      "              precision    recall  f1-score   support\n",
      "\n",
      "           0       0.91      0.95      0.93      4758\n",
      "           1       0.95      0.90      0.92      4806\n",
      "\n",
      "    accuracy                           0.93      9564\n",
      "   macro avg       0.93      0.93      0.93      9564\n",
      "weighted avg       0.93      0.93      0.93      9564\n",
      "\n",
      "[[4511  247]\n",
      " [ 461 4345]]\n",
      "0.8528283627997453\n",
      "\n",
      "XGB\n",
      "              precision    recall  f1-score   support\n",
      "\n",
      "           0       0.89      1.00      0.94      4758\n",
      "           1       1.00      0.88      0.94      4806\n",
      "\n",
      "    accuracy                           0.94      9564\n",
      "   macro avg       0.94      0.94      0.94      9564\n",
      "weighted avg       0.94      0.94      0.94      9564\n",
      "\n",
      "[[4748   10]\n",
      " [ 576 4230]]\n",
      "0.8837317384402543\n",
      "\n",
      "KNN\n",
      "              precision    recall  f1-score   support\n",
      "\n",
      "           0       0.94      0.61      0.74      4758\n",
      "           1       0.71      0.96      0.82      4806\n",
      "\n",
      "    accuracy                           0.79      9564\n",
      "   macro avg       0.82      0.78      0.78      9564\n",
      "weighted avg       0.82      0.79      0.78      9564\n",
      "\n",
      "[[2908 1850]\n",
      " [ 200 4606]]\n",
      "0.6080317940814272\n",
      "\n"
     ]
    },
    {
     "data": {
      "image/png": "[encoded data removed]",
      "text/plain": [
       "<Figure size 432x288 with 1 Axes>"
      ]
     },
     "metadata": {},
     "output_type": "display_data"
    },
    {
     "data": {
      "image/png": "[encoded data removed]",
      "text/plain": [
       "<Figure size 432x288 with 1 Axes>"
      ]
     },
     "metadata": {},
     "output_type": "display_data"
    },
    {
     "data": {
      "image/png": "[encoded data removed]",
      "text/plain": [
       "<Figure size 432x288 with 1 Axes>"
      ]
     },
     "metadata": {},
     "output_type": "display_data"
    },
    {
     "data": {
      "image/png": "[encoded data removed]",
      "text/plain": [
       "<Figure size 432x288 with 1 Axes>"
      ]
     },
     "metadata": {},
     "output_type": "display_data"
    }
   ],
   "source": [
    "# for 70-100\n",
    "X_train, X_test, y_train, y_test = apply_SMOTE(X_3, Y_3)\n",
    "final_df3 = compare_models(X_train, y_train, X_test, y_test, True)\n",
    "graphs_matrice([2,3,6,7], final_df3)"
   ]
  },
  {
   "cell_type": "markdown",
   "metadata": {},
   "source": [
    "# Logistic regression"
   ]
  },
  {
   "cell_type": "code",
   "execution_count": 48,
   "metadata": {
    "collapsed": true
   },
   "outputs": [
    {
     "name": "stdout",
     "output_type": "stream",
     "text": [
      "    penalty : {'l1', 'l2', 'elasticnet', 'none'}, default='l2'\n",
      "    dual : bool, default=False\n",
      "    tol : float, default=1e-4\n",
      "    C : float, default=1.0\n",
      "    fit_intercept : bool, default=True\n",
      "    intercept_scaling : float, default=1\n",
      "    class_weight : dict or 'balanced', default=None\n",
      "    random_state : int, RandomState instance, default=None\n",
      "    solver : {'newton-cg', 'lbfgs', 'liblinear', 'sag', 'saga'},             default='lbfgs'\n",
      "    max_iter : int, default=100\n",
      "    multi_class : {'auto', 'ovr', 'multinomial'}, default='auto'\n",
      "    verbose : int, default=0\n",
      "    warm_start : bool, default=False\n",
      "    n_jobs : int, default=None\n",
      "    l1_ratio : float, default=None\n"
     ]
    }
   ],
   "source": [
    "for i in str(LogisticRegression().__doc__).split('Parameters\\n    ----------\\n')[1].split('\\n\\n    Attributes\\n')[0].replace('\\n        ', '\\n').splitlines():\n",
    "    if \" : \" in i: \n",
    "        print(i)\n",
    "        \n",
    " \n",
    "def Run_LogisticRegression(X_train, y_train, X_test, y_test):\n",
    "    parameters = {'penalty': ['l2'], \n",
    "                  'C': [1,10,100], \n",
    "                  'solver': ['newton-cg', 'lbfgs', 'liblinear', 'sag', 'saga'], \n",
    "                  'multi_class': ['ovr']}\n",
    "    \n",
    "    model = LogisticRegression()\n",
    "    \n",
    "    clf = GridSearchCV(model, parameters, scoring=make_scorer(matthews_corrcoef))\n",
    "    clf.fit(X_train, y_train)\n",
    "    \n",
    "    print(\"---Best parameters----\")\n",
    "    print(clf.best_params_)\n",
    "    \n",
    "    y_pred = clf.predict(X_test)\n",
    "\n",
    "    print()\n",
    "    print('Classification report')\n",
    "    print(classification_report(y_test, y_pred))\n",
    "    print(confusion_matrix(y_test, y_pred))\n",
    "    print(matthews_corrcoef(y_test, y_pred))\n",
    "\n",
    "    heatmap_array = metrics.confusion_matrix(y_test, y_pred,\n",
    "                            labels=None,\n",
    "                            sample_weight=None)\n",
    "    \n",
    "    sns.heatmap(heatmap_array)"
   ]
  },
  {
   "cell_type": "code",
   "execution_count": 49,
   "metadata": {
    "scrolled": true
   },
   "outputs": [
    {
     "name": "stderr",
     "output_type": "stream",
     "text": [
      "C:\\Users\\Samarth\\AppData\\Local\\Programs\\Python\\Python37-32\\lib\\site-packages\\sklearn\\linear_model\\_logistic.py:764: ConvergenceWarning: lbfgs failed to converge (status=1):\n",
      "STOP: TOTAL NO. of ITERATIONS REACHED LIMIT.\n",
      "\n",
      "Increase the number of iterations (max_iter) or scale the data as shown in:\n",
      "    https://scikit-learn.org/stable/modules/preprocessing.html\n",
      "Please also refer to the documentation for alternative solver options:\n",
      "    https://scikit-learn.org/stable/modules/linear_model.html#logistic-regression\n",
      "  extra_warning_msg=_LOGISTIC_SOLVER_CONVERGENCE_MSG)\n",
      "C:\\Users\\Samarth\\AppData\\Local\\Programs\\Python\\Python37-32\\lib\\site-packages\\sklearn\\linear_model\\_logistic.py:764: ConvergenceWarning: lbfgs failed to converge (status=1):\n",
      "STOP: TOTAL NO. of ITERATIONS REACHED LIMIT.\n",
      "\n",
      "Increase the number of iterations (max_iter) or scale the data as shown in:\n",
      "    https://scikit-learn.org/stable/modules/preprocessing.html\n",
      "Please also refer to the documentation for alternative solver options:\n",
      "    https://scikit-learn.org/stable/modules/linear_model.html#logistic-regression\n",
      "  extra_warning_msg=_LOGISTIC_SOLVER_CONVERGENCE_MSG)\n",
      "C:\\Users\\Samarth\\AppData\\Local\\Programs\\Python\\Python37-32\\lib\\site-packages\\sklearn\\linear_model\\_logistic.py:764: ConvergenceWarning: lbfgs failed to converge (status=1):\n",
      "STOP: TOTAL NO. of ITERATIONS REACHED LIMIT.\n",
      "\n",
      "Increase the number of iterations (max_iter) or scale the data as shown in:\n",
      "    https://scikit-learn.org/stable/modules/preprocessing.html\n",
      "Please also refer to the documentation for alternative solver options:\n",
      "    https://scikit-learn.org/stable/modules/linear_model.html#logistic-regression\n",
      "  extra_warning_msg=_LOGISTIC_SOLVER_CONVERGENCE_MSG)\n",
      "C:\\Users\\Samarth\\AppData\\Local\\Programs\\Python\\Python37-32\\lib\\site-packages\\sklearn\\linear_model\\_logistic.py:764: ConvergenceWarning: lbfgs failed to converge (status=1):\n",
      "STOP: TOTAL NO. of ITERATIONS REACHED LIMIT.\n",
      "\n",
      "Increase the number of iterations (max_iter) or scale the data as shown in:\n",
      "    https://scikit-learn.org/stable/modules/preprocessing.html\n",
      "Please also refer to the documentation for alternative solver options:\n",
      "    https://scikit-learn.org/stable/modules/linear_model.html#logistic-regression\n",
      "  extra_warning_msg=_LOGISTIC_SOLVER_CONVERGENCE_MSG)\n",
      "C:\\Users\\Samarth\\AppData\\Local\\Programs\\Python\\Python37-32\\lib\\site-packages\\sklearn\\linear_model\\_logistic.py:764: ConvergenceWarning: lbfgs failed to converge (status=1):\n",
      "STOP: TOTAL NO. of ITERATIONS REACHED LIMIT.\n",
      "\n",
      "Increase the number of iterations (max_iter) or scale the data as shown in:\n",
      "    https://scikit-learn.org/stable/modules/preprocessing.html\n",
      "Please also refer to the documentation for alternative solver options:\n",
      "    https://scikit-learn.org/stable/modules/linear_model.html#logistic-regression\n",
      "  extra_warning_msg=_LOGISTIC_SOLVER_CONVERGENCE_MSG)\n",
      "C:\\Users\\Samarth\\AppData\\Local\\Programs\\Python\\Python37-32\\lib\\site-packages\\sklearn\\linear_model\\_sag.py:330: ConvergenceWarning: The max_iter was reached which means the coef_ did not converge\n",
      "  \"the coef_ did not converge\", ConvergenceWarning)\n",
      "C:\\Users\\Samarth\\AppData\\Local\\Programs\\Python\\Python37-32\\lib\\site-packages\\sklearn\\linear_model\\_sag.py:330: ConvergenceWarning: The max_iter was reached which means the coef_ did not converge\n",
      "  \"the coef_ did not converge\", ConvergenceWarning)\n",
      "C:\\Users\\Samarth\\AppData\\Local\\Programs\\Python\\Python37-32\\lib\\site-packages\\sklearn\\linear_model\\_sag.py:330: ConvergenceWarning: The max_iter was reached which means the coef_ did not converge\n",
      "  \"the coef_ did not converge\", ConvergenceWarning)\n",
      "C:\\Users\\Samarth\\AppData\\Local\\Programs\\Python\\Python37-32\\lib\\site-packages\\sklearn\\linear_model\\_sag.py:330: ConvergenceWarning: The max_iter was reached which means the coef_ did not converge\n",
      "  \"the coef_ did not converge\", ConvergenceWarning)\n",
      "C:\\Users\\Samarth\\AppData\\Local\\Programs\\Python\\Python37-32\\lib\\site-packages\\sklearn\\linear_model\\_sag.py:330: ConvergenceWarning: The max_iter was reached which means the coef_ did not converge\n",
      "  \"the coef_ did not converge\", ConvergenceWarning)\n",
      "C:\\Users\\Samarth\\AppData\\Local\\Programs\\Python\\Python37-32\\lib\\site-packages\\sklearn\\linear_model\\_sag.py:330: ConvergenceWarning: The max_iter was reached which means the coef_ did not converge\n",
      "  \"the coef_ did not converge\", ConvergenceWarning)\n",
      "C:\\Users\\Samarth\\AppData\\Local\\Programs\\Python\\Python37-32\\lib\\site-packages\\sklearn\\linear_model\\_sag.py:330: ConvergenceWarning: The max_iter was reached which means the coef_ did not converge\n",
      "  \"the coef_ did not converge\", ConvergenceWarning)\n",
      "C:\\Users\\Samarth\\AppData\\Local\\Programs\\Python\\Python37-32\\lib\\site-packages\\sklearn\\linear_model\\_sag.py:330: ConvergenceWarning: The max_iter was reached which means the coef_ did not converge\n",
      "  \"the coef_ did not converge\", ConvergenceWarning)\n",
      "C:\\Users\\Samarth\\AppData\\Local\\Programs\\Python\\Python37-32\\lib\\site-packages\\sklearn\\linear_model\\_sag.py:330: ConvergenceWarning: The max_iter was reached which means the coef_ did not converge\n",
      "  \"the coef_ did not converge\", ConvergenceWarning)\n",
      "C:\\Users\\Samarth\\AppData\\Local\\Programs\\Python\\Python37-32\\lib\\site-packages\\sklearn\\linear_model\\_sag.py:330: ConvergenceWarning: The max_iter was reached which means the coef_ did not converge\n",
      "  \"the coef_ did not converge\", ConvergenceWarning)\n",
      "C:\\Users\\Samarth\\AppData\\Local\\Programs\\Python\\Python37-32\\lib\\site-packages\\sklearn\\linear_model\\_logistic.py:764: ConvergenceWarning: lbfgs failed to converge (status=1):\n",
      "STOP: TOTAL NO. of ITERATIONS REACHED LIMIT.\n",
      "\n",
      "Increase the number of iterations (max_iter) or scale the data as shown in:\n",
      "    https://scikit-learn.org/stable/modules/preprocessing.html\n",
      "Please also refer to the documentation for alternative solver options:\n",
      "    https://scikit-learn.org/stable/modules/linear_model.html#logistic-regression\n",
      "  extra_warning_msg=_LOGISTIC_SOLVER_CONVERGENCE_MSG)\n",
      "C:\\Users\\Samarth\\AppData\\Local\\Programs\\Python\\Python37-32\\lib\\site-packages\\sklearn\\linear_model\\_logistic.py:764: ConvergenceWarning: lbfgs failed to converge (status=1):\n",
      "STOP: TOTAL NO. of ITERATIONS REACHED LIMIT.\n",
      "\n",
      "Increase the number of iterations (max_iter) or scale the data as shown in:\n",
      "    https://scikit-learn.org/stable/modules/preprocessing.html\n",
      "Please also refer to the documentation for alternative solver options:\n",
      "    https://scikit-learn.org/stable/modules/linear_model.html#logistic-regression\n",
      "  extra_warning_msg=_LOGISTIC_SOLVER_CONVERGENCE_MSG)\n",
      "C:\\Users\\Samarth\\AppData\\Local\\Programs\\Python\\Python37-32\\lib\\site-packages\\sklearn\\linear_model\\_logistic.py:764: ConvergenceWarning: lbfgs failed to converge (status=1):\n",
      "STOP: TOTAL NO. of ITERATIONS REACHED LIMIT.\n",
      "\n",
      "Increase the number of iterations (max_iter) or scale the data as shown in:\n",
      "    https://scikit-learn.org/stable/modules/preprocessing.html\n",
      "Please also refer to the documentation for alternative solver options:\n",
      "    https://scikit-learn.org/stable/modules/linear_model.html#logistic-regression\n",
      "  extra_warning_msg=_LOGISTIC_SOLVER_CONVERGENCE_MSG)\n",
      "C:\\Users\\Samarth\\AppData\\Local\\Programs\\Python\\Python37-32\\lib\\site-packages\\sklearn\\linear_model\\_logistic.py:764: ConvergenceWarning: lbfgs failed to converge (status=1):\n",
      "STOP: TOTAL NO. of ITERATIONS REACHED LIMIT.\n",
      "\n",
      "Increase the number of iterations (max_iter) or scale the data as shown in:\n",
      "    https://scikit-learn.org/stable/modules/preprocessing.html\n",
      "Please also refer to the documentation for alternative solver options:\n",
      "    https://scikit-learn.org/stable/modules/linear_model.html#logistic-regression\n",
      "  extra_warning_msg=_LOGISTIC_SOLVER_CONVERGENCE_MSG)\n",
      "C:\\Users\\Samarth\\AppData\\Local\\Programs\\Python\\Python37-32\\lib\\site-packages\\sklearn\\linear_model\\_logistic.py:764: ConvergenceWarning: lbfgs failed to converge (status=1):\n",
      "STOP: TOTAL NO. of ITERATIONS REACHED LIMIT.\n",
      "\n",
      "Increase the number of iterations (max_iter) or scale the data as shown in:\n",
      "    https://scikit-learn.org/stable/modules/preprocessing.html\n",
      "Please also refer to the documentation for alternative solver options:\n",
      "    https://scikit-learn.org/stable/modules/linear_model.html#logistic-regression\n",
      "  extra_warning_msg=_LOGISTIC_SOLVER_CONVERGENCE_MSG)\n",
      "C:\\Users\\Samarth\\AppData\\Local\\Programs\\Python\\Python37-32\\lib\\site-packages\\sklearn\\linear_model\\_sag.py:330: ConvergenceWarning: The max_iter was reached which means the coef_ did not converge\n",
      "  \"the coef_ did not converge\", ConvergenceWarning)\n",
      "C:\\Users\\Samarth\\AppData\\Local\\Programs\\Python\\Python37-32\\lib\\site-packages\\sklearn\\linear_model\\_sag.py:330: ConvergenceWarning: The max_iter was reached which means the coef_ did not converge\n",
      "  \"the coef_ did not converge\", ConvergenceWarning)\n"
     ]
    },
    {
     "name": "stderr",
     "output_type": "stream",
     "text": [
      "C:\\Users\\Samarth\\AppData\\Local\\Programs\\Python\\Python37-32\\lib\\site-packages\\sklearn\\linear_model\\_sag.py:330: ConvergenceWarning: The max_iter was reached which means the coef_ did not converge\n",
      "  \"the coef_ did not converge\", ConvergenceWarning)\n",
      "C:\\Users\\Samarth\\AppData\\Local\\Programs\\Python\\Python37-32\\lib\\site-packages\\sklearn\\linear_model\\_sag.py:330: ConvergenceWarning: The max_iter was reached which means the coef_ did not converge\n",
      "  \"the coef_ did not converge\", ConvergenceWarning)\n",
      "C:\\Users\\Samarth\\AppData\\Local\\Programs\\Python\\Python37-32\\lib\\site-packages\\sklearn\\linear_model\\_sag.py:330: ConvergenceWarning: The max_iter was reached which means the coef_ did not converge\n",
      "  \"the coef_ did not converge\", ConvergenceWarning)\n",
      "C:\\Users\\Samarth\\AppData\\Local\\Programs\\Python\\Python37-32\\lib\\site-packages\\sklearn\\linear_model\\_sag.py:330: ConvergenceWarning: The max_iter was reached which means the coef_ did not converge\n",
      "  \"the coef_ did not converge\", ConvergenceWarning)\n",
      "C:\\Users\\Samarth\\AppData\\Local\\Programs\\Python\\Python37-32\\lib\\site-packages\\sklearn\\linear_model\\_sag.py:330: ConvergenceWarning: The max_iter was reached which means the coef_ did not converge\n",
      "  \"the coef_ did not converge\", ConvergenceWarning)\n",
      "C:\\Users\\Samarth\\AppData\\Local\\Programs\\Python\\Python37-32\\lib\\site-packages\\sklearn\\linear_model\\_sag.py:330: ConvergenceWarning: The max_iter was reached which means the coef_ did not converge\n",
      "  \"the coef_ did not converge\", ConvergenceWarning)\n",
      "C:\\Users\\Samarth\\AppData\\Local\\Programs\\Python\\Python37-32\\lib\\site-packages\\sklearn\\linear_model\\_sag.py:330: ConvergenceWarning: The max_iter was reached which means the coef_ did not converge\n",
      "  \"the coef_ did not converge\", ConvergenceWarning)\n",
      "C:\\Users\\Samarth\\AppData\\Local\\Programs\\Python\\Python37-32\\lib\\site-packages\\sklearn\\linear_model\\_sag.py:330: ConvergenceWarning: The max_iter was reached which means the coef_ did not converge\n",
      "  \"the coef_ did not converge\", ConvergenceWarning)\n",
      "C:\\Users\\Samarth\\AppData\\Local\\Programs\\Python\\Python37-32\\lib\\site-packages\\sklearn\\linear_model\\_sag.py:330: ConvergenceWarning: The max_iter was reached which means the coef_ did not converge\n",
      "  \"the coef_ did not converge\", ConvergenceWarning)\n"
     ]
    },
    {
     "name": "stdout",
     "output_type": "stream",
     "text": [
      "---Best parameters----\n",
      "{'C': 10, 'multi_class': 'ovr', 'penalty': 'l2', 'solver': 'saga'}\n",
      "\n",
      "Classification report\n",
      "              precision    recall  f1-score   support\n",
      "\n",
      "           0       0.87      0.74      0.80       240\n",
      "           1       0.77      0.89      0.82       232\n",
      "\n",
      "    accuracy                           0.81       472\n",
      "   macro avg       0.82      0.81      0.81       472\n",
      "weighted avg       0.82      0.81      0.81       472\n",
      "\n",
      "[[178  62]\n",
      " [ 26 206]]\n",
      "0.6353752099080036\n"
     ]
    },
    {
     "data": {
      "image/png": "[encoded data removed]",
      "text/plain": [
       "<Figure size 432x288 with 2 Axes>"
      ]
     },
     "metadata": {},
     "output_type": "display_data"
    }
   ],
   "source": [
    "Run_LogisticRegression(X_train, y_train, X_test, y_test)"
   ]
  },
  {
   "cell_type": "code",
   "execution_count": 21,
   "metadata": {},
   "outputs": [
    {
     "name": "stderr",
     "output_type": "stream",
     "text": [
      "C:\\Users\\Samarth\\AppData\\Local\\Programs\\Python\\Python37-32\\lib\\site-packages\\sklearn\\linear_model\\_sag.py:330: ConvergenceWarning: The max_iter was reached which means the coef_ did not converge\n",
      "  \"the coef_ did not converge\", ConvergenceWarning)\n"
     ]
    }
   ],
   "source": [
    "X_train, X_test, y_train, y_test = apply_SMOTE(X_3, Y_3)\n",
    "model = LogisticRegression(C= 10, multi_class='ovr', penalty='l2', solver='saga')\n",
    "model.fit(X_train,y_train)\n",
    "Pkl_Filename = \"LogReg_3.pkl\"  \n",
    "with open(Pkl_Filename, 'wb') as file:  \n",
    "        pickle.dump(model, file)"
   ]
  },
  {
   "cell_type": "markdown",
   "metadata": {},
   "source": [
    "# Naive bayes"
   ]
  },
  {
   "cell_type": "code",
   "execution_count": 11,
   "metadata": {
    "collapsed": true
   },
   "outputs": [
    {
     "name": "stdout",
     "output_type": "stream",
     "text": [
      "    priors : array-like of shape (n_classes,)\n",
      "    var_smoothing : float, default=1e-9\n"
     ]
    }
   ],
   "source": [
    "for i in str(GaussianNB().__doc__).split('Parameters\\n    ----------\\n')[1].split('\\n\\n    Attributes\\n')[0].replace('\\n        ', '\\n').splitlines():\n",
    "    if \" : \" in i: \n",
    "        print(i)\n",
    "        \n",
    "def Run_NaiveBayes(X_train, y_train, X_test, y_test):\n",
    "    model = GaussianNB()\n",
    "    model.fit(X_train, y_train)\n",
    "\n",
    "    y_pred = model.predict(X_test)\n",
    "\n",
    "    print(\"Logistic Regression forest\")\n",
    "    print(classification_report(y_test, y_pred))\n",
    "    print(confusion_matrix(y_test, y_pred))\n",
    "    print(matthews_corrcoef(y_test, y_pred))\n",
    "\n",
    "    heatmap_array = metrics.confusion_matrix(y_test, y_pred,\n",
    "                            labels=None,\n",
    "                            sample_weight=None)\n",
    "    \n",
    "    sns.heatmap(heatmap_array)"
   ]
  },
  {
   "cell_type": "code",
   "execution_count": 47,
   "metadata": {
    "collapsed": true
   },
   "outputs": [
    {
     "name": "stdout",
     "output_type": "stream",
     "text": [
      "Logistic Regression forest\n",
      "              precision    recall  f1-score   support\n",
      "\n",
      "           0       0.97      0.29      0.44       240\n",
      "           1       0.57      0.99      0.73       232\n",
      "\n",
      "    accuracy                           0.63       472\n",
      "   macro avg       0.77      0.64      0.59       472\n",
      "weighted avg       0.78      0.63      0.58       472\n",
      "\n",
      "[[ 69 171]\n",
      " [  2 230]]\n",
      "0.3899999473613908\n"
     ]
    },
    {
     "data": {
      "image/png": "[encoded data removed]",
      "text/plain": [
       "<Figure size 432x288 with 2 Axes>"
      ]
     },
     "metadata": {},
     "output_type": "display_data"
    }
   ],
   "source": [
    "Run_NaiveBayes(X_train, y_train, X_test, y_test)"
   ]
  },
  {
   "cell_type": "code",
   "execution_count": 18,
   "metadata": {},
   "outputs": [],
   "source": [
    "X_train, X_test, y_train, y_test = apply_SMOTE(X_3, Y_3)\n",
    "model = GaussianNB()\n",
    "model.fit(X_train,y_train)\n",
    "Pkl_Filename = \"GNB_3.pkl\"  \n",
    "with open(Pkl_Filename, 'wb') as file:  \n",
    "        pickle.dump(model, file)"
   ]
  },
  {
   "cell_type": "markdown",
   "metadata": {},
   "source": [
    "# Decision Tree"
   ]
  },
  {
   "cell_type": "code",
   "execution_count": 42,
   "metadata": {
    "collapsed": true
   },
   "outputs": [
    {
     "name": "stdout",
     "output_type": "stream",
     "text": [
      "    criterion : {\"gini\", \"entropy\"}, default=\"gini\"\n",
      "    splitter : {\"best\", \"random\"}, default=\"best\"\n",
      "    max_depth : int, default=None\n",
      "    min_samples_split : int or float, default=2\n",
      "    min_samples_leaf : int or float, default=1\n",
      "    min_weight_fraction_leaf : float, default=0.0\n",
      "    max_features : int, float or {\"auto\", \"sqrt\", \"log2\"}, default=None\n",
      "    random_state : int, RandomState instance, default=None\n",
      "    max_leaf_nodes : int, default=None\n",
      "    min_impurity_decrease : float, default=0.0\n",
      "    min_impurity_split : float, default=0\n",
      "    class_weight : dict, list of dict or \"balanced\", default=None\n",
      "    presort : deprecated, default='deprecated'\n",
      "    ccp_alpha : non-negative float, default=0.0\n"
     ]
    }
   ],
   "source": [
    "for i in str(DecisionTreeClassifier().__doc__).split('Parameters\\n    ----------\\n')[1].split('\\n\\n    Attributes\\n')[0].replace('\\n        ', '\\n').splitlines():\n",
    "    if \" : \" in i: \n",
    "        print(i)\n",
    "\n",
    "def Run_decision_tree(X_train, y_train, X_test, y_test):\n",
    "    parameters = {'criterion': ['gini', 'entropy'], \n",
    "                  'max_features': ['auto', 'log2']}\n",
    "    \n",
    "    model = DecisionTreeClassifier()\n",
    "    \n",
    "    clf = GridSearchCV(model, parameters, scoring=make_scorer(matthews_corrcoef))\n",
    "    clf.fit(X_train, y_train)\n",
    "    \n",
    "    print(\"---Best parameters----\")\n",
    "    print(clf.best_params_)\n",
    "    \n",
    "    y_pred = clf.predict(X_test)\n",
    "\n",
    "    print()\n",
    "    print('Classification report')\n",
    "    print(classification_report(y_test, y_pred))\n",
    "    print(confusion_matrix(y_test, y_pred))\n",
    "    print(matthews_corrcoef(y_test, y_pred))\n",
    "\n",
    "    heatmap_array = metrics.confusion_matrix(y_test, y_pred,\n",
    "                            labels=None,\n",
    "                            sample_weight=None)\n",
    "    \n",
    "    sns.heatmap(heatmap_array)"
   ]
  },
  {
   "cell_type": "code",
   "execution_count": 43,
   "metadata": {},
   "outputs": [
    {
     "name": "stdout",
     "output_type": "stream",
     "text": [
      "---Best parameters----\n",
      "{'criterion': 'entropy', 'max_features': 'auto'}\n",
      "\n",
      "Classification report\n",
      "              precision    recall  f1-score   support\n",
      "\n",
      "           0       0.88      0.88      0.88       240\n",
      "           1       0.87      0.87      0.87       232\n",
      "\n",
      "    accuracy                           0.88       472\n",
      "   macro avg       0.87      0.87      0.87       472\n",
      "weighted avg       0.87      0.88      0.87       472\n",
      "\n",
      "[[211  29]\n",
      " [ 30 202]]\n",
      "0.7499169317990485\n"
     ]
    },
    {
     "data": {
      "image/png": "[encoded data removed]",
      "text/plain": [
       "<Figure size 432x288 with 2 Axes>"
      ]
     },
     "metadata": {},
     "output_type": "display_data"
    }
   ],
   "source": [
    "Run_decision_tree(X_train, y_train, X_test, y_test)"
   ]
  },
  {
   "cell_type": "code",
   "execution_count": 15,
   "metadata": {},
   "outputs": [],
   "source": [
    "X_train, X_test, y_train, y_test = apply_SMOTE(X_3, Y_3)\n",
    "model = DecisionTreeClassifier(criterion='entropy', max_features='auto')\n",
    "model.fit(X_train,y_train)\n",
    "Pkl_Filename = \"Tree_3.pkl\"  \n",
    "with open(Pkl_Filename, 'wb') as file:  \n",
    "        pickle.dump(model, file)"
   ]
  },
  {
   "cell_type": "markdown",
   "metadata": {},
   "source": [
    "# Random Forest"
   ]
  },
  {
   "cell_type": "code",
   "execution_count": 16,
   "metadata": {},
   "outputs": [
    {
     "name": "stdout",
     "output_type": "stream",
     "text": [
      "    n_estimators : int, default=100\n",
      "    criterion : {\"gini\", \"entropy\"}, default=\"gini\"\n",
      "    max_depth : int, default=None\n",
      "    min_samples_split : int or float, default=2\n",
      "    min_samples_leaf : int or float, default=1\n",
      "    min_weight_fraction_leaf : float, default=0.0\n",
      "    max_features : {\"auto\", \"sqrt\", \"log2\"}, int or float, default=\"auto\"\n",
      "    max_leaf_nodes : int, default=None\n",
      "    min_impurity_decrease : float, default=0.0\n",
      "    min_impurity_split : float, default=None\n",
      "    bootstrap : bool, default=True\n",
      "    oob_score : bool, default=False\n",
      "    n_jobs : int, default=None\n",
      "    random_state : int or RandomState, default=None\n",
      "    verbose : int, default=0\n",
      "    warm_start : bool, default=False\n",
      "    class_weight : {\"balanced\", \"balanced_subsample\"}, dict or list of dicts,             default=None\n",
      "    ccp_alpha : non-negative float, default=0.0\n",
      "    max_samples : int or float, default=None\n"
     ]
    }
   ],
   "source": [
    "for i in str(RandomForestClassifier().__doc__).split('Parameters\\n    ----------\\n')[1].split('\\n\\n    Attributes\\n')[0].replace('\\n        ', '\\n').splitlines():\n",
    "    if \" : \" in i: \n",
    "        print(i)\n",
    "\n",
    "def Run_RF(X_train, y_train, X_test, y_test):\n",
    "    parameters = {'criterion': ['gini','entropy'], \n",
    "                  'n_estimators': [50, 100, 200], \n",
    "                  'max_features': ['auto', 'log2']}\n",
    "    model = RandomForestClassifier()\n",
    "    \n",
    "    clf = GridSearchCV(model, parameters, scoring=make_scorer(matthews_corrcoef))\n",
    "    clf.fit(X_train, y_train)\n",
    "    \n",
    "    print(\"---Best parameters----\")\n",
    "    print(clf.best_params_)\n",
    "    \n",
    "    y_pred = clf.predict(X_test)\n",
    "\n",
    "    print()\n",
    "    print('Classification report')\n",
    "    print(classification_report(y_test, y_pred))\n",
    "    print(confusion_matrix(y_test, y_pred))\n",
    "    print(matthews_corrcoef(y_test, y_pred))\n",
    "\n",
    "    heatmap_array = metrics.confusion_matrix(y_test, y_pred,\n",
    "                            labels=None,\n",
    "                            sample_weight=None)\n",
    "    \n",
    "    sns.heatmap(heatmap_array)"
   ]
  },
  {
   "cell_type": "code",
   "execution_count": 17,
   "metadata": {},
   "outputs": [
    {
     "name": "stdout",
     "output_type": "stream",
     "text": [
      "---Best parameters----\n",
      "{'criterion': 'entropy', 'max_features': 'log2', 'n_estimators': 200}\n",
      "\n",
      "Classification report\n",
      "              precision    recall  f1-score   support\n",
      "\n",
      "           0       0.97      0.95      0.96       240\n",
      "           1       0.95      0.97      0.96       232\n",
      "\n",
      "    accuracy                           0.96       472\n",
      "   macro avg       0.96      0.96      0.96       472\n",
      "weighted avg       0.96      0.96      0.96       472\n",
      "\n",
      "[[227  13]\n",
      " [  8 224]]\n",
      "0.9112278421587624\n"
     ]
    },
    {
     "data": {
      "image/png": "[encoded data removed]",
      "text/plain": [
       "<Figure size 432x288 with 2 Axes>"
      ]
     },
     "metadata": {
      "needs_background": "light"
     },
     "output_type": "display_data"
    }
   ],
   "source": [
    "X_train, X_test, y_train, y_test = apply_SMOTE(X_1, Y_1)\n",
    "Run_RF(X_train, y_train, X_test, y_test)"
   ]
  },
  {
   "cell_type": "code",
   "execution_count": 20,
   "metadata": {},
   "outputs": [],
   "source": [
    "X_train, X_test, y_train, y_test = apply_SMOTE(X_3, Y_3)\n",
    "model = RandomForestClassifier(criterion='entropy', max_features='log2', n_estimators=200)\n",
    "model.fit(X_train,y_train)\n",
    "Pkl_Filename = \"Random_Forest_3.pkl\"  \n",
    "with open(Pkl_Filename, 'wb') as file:  \n",
    "        pickle.dump(model, file)"
   ]
  },
  {
   "cell_type": "markdown",
   "metadata": {},
   "source": [
    "## SVM"
   ]
  },
  {
   "cell_type": "code",
   "execution_count": 9,
   "metadata": {},
   "outputs": [
    {
     "name": "stdout",
     "output_type": "stream",
     "text": [
      "    penalty : {'l1', 'l2'}, default='l2'\n",
      "    loss : {'hinge', 'squared_hinge'}, default='squared_hinge'\n",
      "    dual : bool, default=True\n",
      "    tol : float, default=1e-4\n",
      "    C : float, default=1.0\n",
      "    multi_class : {'ovr', 'crammer_singer'}, default='ovr'\n",
      "    fit_intercept : bool, default=True\n",
      "    intercept_scaling : float, default=1\n",
      "    class_weight : dict or 'balanced', default=None\n",
      "    verbose : int, default=0\n",
      "    random_state : int or RandomState instance, default=None\n",
      "    max_iter : int, default=1000\n"
     ]
    }
   ],
   "source": [
    "for i in str(SVC().__doc__).split('Parameters\\n    ----------\\n')[1].split('\\n\\n    Attributes\\n')[0].replace('\\n        ', '\\n').splitlines():\n",
    "    if \" : \" in i: \n",
    "        print(i)\n",
    "\n",
    "def Run_SVC(X_train, y_train, X_test, y_test):\n",
    "    parameters = {'kernel': ['rbf'], \n",
    "                  'gamma': ['scale'], \n",
    "                  'max_iter': [-1],\n",
    "                  'C': [1, 100, 1000]}\n",
    "    model = SVC()\n",
    "    clf = GridSearchCV(model, parameters, scoring=make_scorer(matthews_corrcoef))\n",
    "    clf.fit(X_train, y_train)\n",
    "    \n",
    "    print(\"---Best parameters----\")\n",
    "    print(clf.best_params_)\n",
    "    \n",
    "    y_pred = clf.predict(X_test)\n",
    "\n",
    "    print()\n",
    "    print(\"Support vector machine\")\n",
    "    print(classification_report(y_test, y_pred))\n",
    "    print(confusion_matrix(y_test, y_pred))\n",
    "    print(matthews_corrcoef(y_test, y_pred))\n",
    "\n",
    "    heatmap_array = metrics.confusion_matrix(y_test, y_pred,\n",
    "                            labels=None,\n",
    "                            sample_weight=None)\n",
    "    \n",
    "    sns.heatmap(heatmap_array)"
   ]
  },
  {
   "cell_type": "code",
   "execution_count": 12,
   "metadata": {
    "collapsed": true
   },
   "outputs": [
    {
     "name": "stderr",
     "output_type": "stream",
     "text": [
      "C:\\Users\\Samarth\\AppData\\Local\\Programs\\Python\\Python37-32\\lib\\site-packages\\sklearn\\svm\\_base.py:977: ConvergenceWarning: Liblinear failed to converge, increase the number of iterations.\n",
      "  \"the number of iterations.\", ConvergenceWarning)\n",
      "C:\\Users\\Samarth\\AppData\\Local\\Programs\\Python\\Python37-32\\lib\\site-packages\\sklearn\\svm\\_base.py:977: ConvergenceWarning: Liblinear failed to converge, increase the number of iterations.\n",
      "  \"the number of iterations.\", ConvergenceWarning)\n",
      "C:\\Users\\Samarth\\AppData\\Local\\Programs\\Python\\Python37-32\\lib\\site-packages\\sklearn\\svm\\_base.py:977: ConvergenceWarning: Liblinear failed to converge, increase the number of iterations.\n",
      "  \"the number of iterations.\", ConvergenceWarning)\n",
      "C:\\Users\\Samarth\\AppData\\Local\\Programs\\Python\\Python37-32\\lib\\site-packages\\sklearn\\svm\\_base.py:977: ConvergenceWarning: Liblinear failed to converge, increase the number of iterations.\n",
      "  \"the number of iterations.\", ConvergenceWarning)\n",
      "C:\\Users\\Samarth\\AppData\\Local\\Programs\\Python\\Python37-32\\lib\\site-packages\\sklearn\\svm\\_base.py:977: ConvergenceWarning: Liblinear failed to converge, increase the number of iterations.\n",
      "  \"the number of iterations.\", ConvergenceWarning)\n",
      "C:\\Users\\Samarth\\AppData\\Local\\Programs\\Python\\Python37-32\\lib\\site-packages\\sklearn\\svm\\_base.py:977: ConvergenceWarning: Liblinear failed to converge, increase the number of iterations.\n",
      "  \"the number of iterations.\", ConvergenceWarning)\n",
      "C:\\Users\\Samarth\\AppData\\Local\\Programs\\Python\\Python37-32\\lib\\site-packages\\sklearn\\svm\\_base.py:977: ConvergenceWarning: Liblinear failed to converge, increase the number of iterations.\n",
      "  \"the number of iterations.\", ConvergenceWarning)\n",
      "C:\\Users\\Samarth\\AppData\\Local\\Programs\\Python\\Python37-32\\lib\\site-packages\\sklearn\\svm\\_base.py:977: ConvergenceWarning: Liblinear failed to converge, increase the number of iterations.\n",
      "  \"the number of iterations.\", ConvergenceWarning)\n",
      "C:\\Users\\Samarth\\AppData\\Local\\Programs\\Python\\Python37-32\\lib\\site-packages\\sklearn\\svm\\_base.py:977: ConvergenceWarning: Liblinear failed to converge, increase the number of iterations.\n",
      "  \"the number of iterations.\", ConvergenceWarning)\n",
      "C:\\Users\\Samarth\\AppData\\Local\\Programs\\Python\\Python37-32\\lib\\site-packages\\sklearn\\svm\\_base.py:977: ConvergenceWarning: Liblinear failed to converge, increase the number of iterations.\n",
      "  \"the number of iterations.\", ConvergenceWarning)\n",
      "C:\\Users\\Samarth\\AppData\\Local\\Programs\\Python\\Python37-32\\lib\\site-packages\\sklearn\\svm\\_base.py:977: ConvergenceWarning: Liblinear failed to converge, increase the number of iterations.\n",
      "  \"the number of iterations.\", ConvergenceWarning)\n",
      "C:\\Users\\Samarth\\AppData\\Local\\Programs\\Python\\Python37-32\\lib\\site-packages\\sklearn\\svm\\_base.py:977: ConvergenceWarning: Liblinear failed to converge, increase the number of iterations.\n",
      "  \"the number of iterations.\", ConvergenceWarning)\n",
      "C:\\Users\\Samarth\\AppData\\Local\\Programs\\Python\\Python37-32\\lib\\site-packages\\sklearn\\svm\\_base.py:977: ConvergenceWarning: Liblinear failed to converge, increase the number of iterations.\n",
      "  \"the number of iterations.\", ConvergenceWarning)\n",
      "C:\\Users\\Samarth\\AppData\\Local\\Programs\\Python\\Python37-32\\lib\\site-packages\\sklearn\\svm\\_base.py:977: ConvergenceWarning: Liblinear failed to converge, increase the number of iterations.\n",
      "  \"the number of iterations.\", ConvergenceWarning)\n",
      "C:\\Users\\Samarth\\AppData\\Local\\Programs\\Python\\Python37-32\\lib\\site-packages\\sklearn\\svm\\_base.py:977: ConvergenceWarning: Liblinear failed to converge, increase the number of iterations.\n",
      "  \"the number of iterations.\", ConvergenceWarning)\n"
     ]
    },
    {
     "name": "stdout",
     "output_type": "stream",
     "text": [
      "---Best parameters----\n",
      "{'C': 1}\n",
      "\n",
      "Support vector machine\n",
      "              precision    recall  f1-score   support\n",
      "\n",
      "           0       0.72      0.73      0.72      5939\n",
      "           1       0.72      0.71      0.72      5880\n",
      "\n",
      "    accuracy                           0.72     11819\n",
      "   macro avg       0.72      0.72      0.72     11819\n",
      "weighted avg       0.72      0.72      0.72     11819\n",
      "\n",
      "[[4322 1617]\n",
      " [1693 4187]]\n",
      "0.43987139392267915\n"
     ]
    },
    {
     "name": "stderr",
     "output_type": "stream",
     "text": [
      "C:\\Users\\Samarth\\AppData\\Local\\Programs\\Python\\Python37-32\\lib\\site-packages\\sklearn\\svm\\_base.py:977: ConvergenceWarning: Liblinear failed to converge, increase the number of iterations.\n",
      "  \"the number of iterations.\", ConvergenceWarning)\n"
     ]
    },
    {
     "data": {
      "image/png": "[encoded data removed]",
      "text/plain": [
       "<Figure size 432x288 with 2 Axes>"
      ]
     },
     "metadata": {
      "needs_background": "light"
     },
     "output_type": "display_data"
    }
   ],
   "source": [
    "Run_SVC(X_train, y_train, X_test, y_test)"
   ]
  },
  {
   "cell_type": "code",
   "execution_count": 11,
   "metadata": {},
   "outputs": [
    {
     "name": "stderr",
     "output_type": "stream",
     "text": [
      "C:\\Users\\Samarth\\AppData\\Local\\Programs\\Python\\Python37-32\\lib\\site-packages\\sklearn\\svm\\_base.py:977: ConvergenceWarning: Liblinear failed to converge, increase the number of iterations.\n",
      "  \"the number of iterations.\", ConvergenceWarning)\n"
     ]
    }
   ],
   "source": [
    "X_train, X_test, y_train, y_test = apply_SMOTE(X_2, Y_2)\n",
    "model = SVC(C=1000, gamma='scale', kernel='rbf', max_iter=-1)\n",
    "model.fit(X_train,y_train)\n",
    "Pkl_Filename = \"SVC_1.pkl\"  \n",
    "with open(Pkl_Filename, 'wb') as file:  \n",
    "        pickle.dump(model, file)"
   ]
  },
  {
   "cell_type": "markdown",
   "metadata": {},
   "source": [
    "# KNN"
   ]
  },
  {
   "cell_type": "code",
   "execution_count": 51,
   "metadata": {},
   "outputs": [
    {
     "name": "stdout",
     "output_type": "stream",
     "text": [
      "    n_neighbors : int, default=5\n",
      "    weights : {'uniform', 'distance'} or callable, default='uniform'\n",
      "- 'uniform' : uniform weights.  All points in each neighborhood\n",
      "- 'distance' : weight points by the inverse of their distance.\n",
      "- [callable] : a user-defined function which accepts an\n",
      "    algorithm : {'auto', 'ball_tree', 'kd_tree', 'brute'}, default='auto'\n",
      "    leaf_size : int, default=30\n",
      "    p : int, default=2\n",
      "    metric : str or callable, default='minkowski'\n",
      "    metric_params : dict, default=None\n",
      "    n_jobs : int, default=None\n"
     ]
    }
   ],
   "source": [
    "for i in str(KNeighborsClassifier().__doc__).split('Parameters\\n    ----------\\n')[1].split('\\n\\n    Attributes\\n')[0].replace('\\n        ', '\\n').splitlines():\n",
    "    if \" : \" in i: \n",
    "        print(i)\n",
    "\n",
    "def Run_KNN(X_train, y_train, X_test, y_test):\n",
    "    parameters = {'weights': ['uniform', 'distance'], \n",
    "                  'algorithm': ['auto', 'ball_tree', 'kd_tree', 'brute'],\n",
    "                  'leaf_size': [10, 100]}\n",
    "    model = KNeighborsClassifier()\n",
    "    clf = GridSearchCV(model, parameters, scoring=make_scorer(matthews_corrcoef))\n",
    "    clf.fit(X_train, y_train)\n",
    "    \n",
    "    print(\"---Best parameters----\")\n",
    "    print(clf.best_params_)\n",
    "    \n",
    "    y_pred = clf.predict(X_test)\n",
    "\n",
    "    print()\n",
    "    print(\"Support vector machine\")\n",
    "    print(classification_report(y_test, y_pred))\n",
    "    print(confusion_matrix(y_test, y_pred))\n",
    "    print(matthews_corrcoef(y_test, y_pred))\n",
    "\n",
    "    heatmap_array = metrics.confusion_matrix(y_test, y_pred,\n",
    "                            labels=None,\n",
    "                            sample_weight=None)\n",
    "    \n",
    "    sns.heatmap(heatmap_array)"
   ]
  },
  {
   "cell_type": "code",
   "execution_count": 52,
   "metadata": {
    "collapsed": true
   },
   "outputs": [
    {
     "name": "stdout",
     "output_type": "stream",
     "text": [
      "---Best parameters----\n",
      "{'algorithm': 'auto', 'leaf_size': 10, 'weights': 'distance'}\n",
      "\n",
      "Support vector machine\n",
      "              precision    recall  f1-score   support\n",
      "\n",
      "           0       0.99      0.70      0.82       240\n",
      "           1       0.76      1.00      0.86       232\n",
      "\n",
      "    accuracy                           0.84       472\n",
      "   macro avg       0.88      0.85      0.84       472\n",
      "weighted avg       0.88      0.84      0.84       472\n",
      "\n",
      "[[167  73]\n",
      " [  1 231]]\n",
      "0.7220458940625201\n"
     ]
    },
    {
     "data": {
      "image/png": "[encoded data removed]",
      "text/plain": [
       "<Figure size 432x288 with 2 Axes>"
      ]
     },
     "metadata": {},
     "output_type": "display_data"
    }
   ],
   "source": [
    "Run_KNN(X_train, y_train, X_test, y_test)"
   ]
  },
  {
   "cell_type": "code",
   "execution_count": 24,
   "metadata": {},
   "outputs": [],
   "source": [
    "X_train, X_test, y_train, y_test = apply_SMOTE(X_3, Y_3)\n",
    "model = KNeighborsClassifier()\n",
    "model.fit(X_train,y_train)\n",
    "Pkl_Filename = \"KNN_3.pkl\"  \n",
    "with open(Pkl_Filename, 'wb') as file:  \n",
    "        pickle.dump(model, file)"
   ]
  },
  {
   "cell_type": "markdown",
   "metadata": {},
   "source": [
    "# XGBoost"
   ]
  },
  {
   "cell_type": "code",
   "execution_count": null,
   "metadata": {},
   "outputs": [],
   "source": [
    "model = XGBClassifier(eta = 0.3, objective = 'binary:logistic',eval_metric = 'auc', seed = 7,reg_alpha = 1)\n",
    "model.fit(X_train, y_train)\n",
    "y_pred = model.predict(X_test)\n",
    "\n",
    "print(classification_report(y_test, y_pred))\n",
    "print(confusion_matrix(y_test, y_pred))\n",
    "print(matthews_corrcoef(y_test, y_pred))"
   ]
  },
  {
   "cell_type": "code",
   "execution_count": 23,
   "metadata": {},
   "outputs": [],
   "source": [
    "X_train, X_test, y_train, y_test = apply_SMOTE(X_1, Y_1)\n",
    "model = XGBClassifier(eta = 0.3, objective = 'binary:logistic',eval_metric = 'auc', seed = 7,reg_alpha = 1)\n",
    "model.fit(X_train,y_train)\n",
    "Pkl_Filename = \"XGBoost_1.pkl\"  \n",
    "with open(Pkl_Filename, 'wb') as file:  \n",
    "        pickle.dump(model, file)"
   ]
  },
  {
   "cell_type": "markdown",
   "metadata": {},
   "source": [
    "# Bagging"
   ]
  },
  {
   "cell_type": "code",
   "execution_count": null,
   "metadata": {},
   "outputs": [],
   "source": [
    "model = BaggingClassifier(base_estimator=AdaBoostClassifier(n_estimators=100),n_estimators=100, random_state=0).fit(X_train, y_train)\n",
    "model.fit(X_train, y_train)\n",
    "y_pred = model.predict(X_test)\n",
    "\n",
    "print(classification_report(y_test, y_pred))\n",
    "print(confusion_matrix(y_test, y_pred))\n",
    "print(matthews_corrcoef(y_test, y_pred))"
   ]
  },
  {
   "cell_type": "markdown",
   "metadata": {},
   "source": [
    "# Neural Network"
   ]
  },
  {
   "cell_type": "code",
   "execution_count": null,
   "metadata": {},
   "outputs": [],
   "source": [
    "import keras\n",
    "import numpy as np\n",
    "from numpy import loadtxt\n",
    "from keras.models import Sequential\n",
    "from keras.layers import Dense\n",
    "\n",
    "%tensorflow_version 2.x\n",
    "import tensorflow as tf\n",
    "device_name = tf.test.gpu_device_name()\n",
    "if device_name != '/device:GPU:0':\n",
    "  raise SystemError('GPU device not found')\n",
    "print('Found GPU at: {}'.format(device_name))"
   ]
  },
  {
   "cell_type": "code",
   "execution_count": null,
   "metadata": {},
   "outputs": [],
   "source": [
    "tsne = TSNE()\n",
    "X_tsne = tsne.fit_transform(X_train)\n",
    "sns.scatterplot(x=X_tsne[:,0],y= X_tsne[:,1],hue=y_train, legend='full', palette=sns.color_palette(\"bright\", 2))\n",
    "plt.suptitle(\"t-SNE\")\n",
    "plt.show()\n",
    "\n",
    "dataset = loadtxt('Main_data.csv', delimiter=',')\n",
    "# split into input (X) and output (y) variables\n",
    "X = dataset[:,0:8]\n",
    "y = dataset[:,8]"
   ]
  },
  {
   "cell_type": "code",
   "execution_count": null,
   "metadata": {},
   "outputs": [],
   "source": [
    "# define the keras model\n",
    "model = Sequential()\n",
    "model.add(Dense(1024, input_dim=48, activation='relu'))\n",
    "model.add(Dense(512, activation='relu'))\n",
    "model.add(Dense(128, activation='relu'))\n",
    "model.add(Dense(32, activation='relu'))\n",
    "model.add(Dense(1, activation='sigmoid'))\n",
    "# compile the keras model\n",
    "optimizer = keras.optimizers.Adam(lr=0.01)\n",
    "model.compile(loss='binary_crossentropy', optimizer=optimizer, metrics=['accuracy'])\n",
    "# fit the keras model on the dataset\n",
    "model.fit(X_train, y_train, epochs=100, batch_size=50)\n",
    "# make probability predictions with the model\n",
    "predictions = model.predict(X_test)\n",
    "# round predictions \n",
    "y_pred = [round(x[0]) for x in predictions]\n",
    "# y_pred is the predicted output vector"
   ]
  },
  {
   "cell_type": "code",
   "execution_count": null,
   "metadata": {},
   "outputs": [],
   "source": [
    "# make probability predictions with the model\n",
    "predictions = model.predict(X_test)\n",
    "# round predictions \n",
    "y_pred = [round(x[0]) for x in predictions]\n",
    "print(classification_report(y_test, y_pred))\n",
    "print(confusion_matrix(y_test, y_pred))\n",
    "print(matthews_corrcoef(y_test, y_pred))\n",
    "\n",
    "heatmap_array = metrics.confusion_matrix(y_test, y_pred,\n",
    "                         labels=None,\n",
    "                         sample_weight=None)\n",
    "sns.heatmap(heatmap_array)"
   ]
  },
  {
   "cell_type": "code",
   "execution_count": null,
   "metadata": {},
   "outputs": [],
   "source": [
    "weights = model.get_weights()\n",
    "# function to return the features of the final hidden layer\n",
    "def get_hf_features(X, n_layers, weights):\n",
    "\n",
    "  v = []\n",
    "  v.append(X)\n",
    "  # calculate the features of all layers\n",
    "  for i in range(n_layers-1):\n",
    "    output = np.dot(v[i], weights[2*i]) + weights[2*i+1]\n",
    "    x_calc = np.where(output<0,0,output)\n",
    "    v.append(x_calc)\n",
    "  hfs = v[-1]\n",
    "# return the features of final hidden layer only\n",
    "  return hfs\n",
    "# call the function to get featuers of final hidden layer and plot a t-SNE plot on it\n",
    "hlf = get_hf_features(X_train, 4, weights)\n",
    "tsne = TSNE()\n",
    "X_tsne = tsne.fit_transform(hlf)\n",
    "sns.scatterplot(x=X_tsne[:,0],y= X_tsne[:,1],hue=y_train, legend='full', palette=sns.color_palette(\"bright\", 2))\n",
    "plt.suptitle(\"t-SNE of final hidden layer with sigmoid\")\n",
    "plt.show()"
   ]
  }
 ],
 "metadata": {
  "kernelspec": {
   "display_name": "Python 3.7.0 32-bit",
   "language": "python",
   "name": "python37032bit3ff050d186504971ae63428970355631"
  },
  "language_info": {
   "codemirror_mode": {
    "name": "ipython",
    "version": 3
   },
   "file_extension": ".py",
   "mimetype": "text/x-python",
   "name": "python",
   "nbconvert_exporter": "python",
   "pygments_lexer": "ipython3",
   "version": "3.7.0"
  }
 },
 "nbformat": 4,
 "nbformat_minor": 4
}
